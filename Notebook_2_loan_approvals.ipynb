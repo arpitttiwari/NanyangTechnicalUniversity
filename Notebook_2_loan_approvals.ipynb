{
  "cells": [
    {
      "cell_type": "markdown",
      "metadata": {
        "id": "view-in-github",
        "colab_type": "text"
      },
      "source": [
        "<a href=\"https://colab.research.google.com/github/arpitttiwari/NanyangTechnicalUniversity/blob/main/Notebook_2_loan_approvals.ipynb\" target=\"_parent\"><img src=\"https://colab.research.google.com/assets/colab-badge.svg\" alt=\"Open In Colab\"/></a>"
      ]
    },
    {
      "cell_type": "markdown",
      "metadata": {
        "hideCode": false,
        "hidePrompt": false,
        "id": "80psZd8RQC29"
      },
      "source": [
        "## Loading libraries and data\n",
        "\n",
        "Here we load the necessary libraries. Note that while `pandas`, `numpy`, `sklearn`, `statsmodels` come with Anaconda distribution, you will probably have to install `stargazer` (for printing regression tables) and `plotly` (data visualization) manually."
      ]
    },
    {
      "cell_type": "code",
      "source": [
        "#@title\n",
        "# This is to install missing packages - comment it out if not needed\n",
        "!pip install stargazer\n",
        "!pip install plotly\n",
        "# You can comment it out later"
      ],
      "metadata": {
        "colab": {
          "base_uri": "https://localhost:8080/"
        },
        "id": "YfDop7qBQbSC",
        "outputId": "b333b937-1777-4095-afb1-915dd397d673"
      },
      "execution_count": null,
      "outputs": [
        {
          "output_type": "stream",
          "name": "stdout",
          "text": [
            "Looking in indexes: https://pypi.org/simple, https://us-python.pkg.dev/colab-wheels/public/simple/\n",
            "Collecting stargazer\n",
            "  Downloading stargazer-0.0.5-py3-none-any.whl (9.7 kB)\n",
            "Installing collected packages: stargazer\n",
            "Successfully installed stargazer-0.0.5\n",
            "Looking in indexes: https://pypi.org/simple, https://us-python.pkg.dev/colab-wheels/public/simple/\n",
            "Requirement already satisfied: plotly in /usr/local/lib/python3.9/dist-packages (5.13.1)\n",
            "Requirement already satisfied: tenacity>=6.2.0 in /usr/local/lib/python3.9/dist-packages (from plotly) (8.2.2)\n"
          ]
        }
      ]
    },
    {
      "cell_type": "code",
      "execution_count": null,
      "metadata": {
        "hideCode": false,
        "hidePrompt": false,
        "id": "QHtEC-r6QC2-"
      },
      "outputs": [],
      "source": [
        "import pandas as pd  \n",
        "import numpy as np  \n",
        "\n",
        "from sklearn.linear_model import LogisticRegression\n",
        "from sklearn import metrics\n",
        "from sklearn.model_selection import train_test_split \n",
        "\n",
        "import statsmodels.api as sm\n",
        "import statsmodels.formula.api as smf\n",
        "from scipy import stats as st\n",
        "\n",
        "from stargazer.stargazer import Stargazer, LineLocation\n",
        "import plotly.express as px"
      ]
    },
    {
      "cell_type": "markdown",
      "metadata": {
        "hideCode": false,
        "hidePrompt": false,
        "id": "ufQsVzD3QC2-"
      },
      "source": [
        "# Notebook 2: logistic regression\n",
        "\n",
        "Go through the notebook and do exercises. There will be topics for discussion in the end - we will discuss them in the end of the class or tomorrow\n",
        "\n",
        "By the end of this activity, you should \n",
        "\n",
        "1. Learn how to train and evaluate a logistic regression model\n",
        "\n",
        "2. Explain how to recognize overfitting\n",
        "\n",
        "3. Explain importance of variable selection"
      ]
    },
    {
      "cell_type": "markdown",
      "metadata": {
        "hideCode": false,
        "hidePrompt": false,
        "id": "ULwORlmVQC2-"
      },
      "source": [
        "Here we load the German credit approval dataset.\n",
        "\n",
        "Here is the source of the data:\n",
        "https://archive.ics.uci.edu/ml/datasets/statlog+(german+credit+data)\n",
        "\n",
        "\n",
        "And here is the description:\n",
        "\n",
        "### Attribute 1: (qualitative)\n",
        "Status of existing checking account\n",
        "\n",
        "A11 : ... < 0 DM\n",
        "\n",
        "A12 : 0 <= ... < 200 DM\n",
        "\n",
        "A13 : ... >= 200 DM / salary assignments for at least 1 year\n",
        "\n",
        "A14 : no checking account\n",
        "\n",
        "### Attribute 2: (numerical)\n",
        "Duration in month\n",
        "\n",
        "### Attribute 3: (qualitative)\n",
        "Credit history\n",
        "\n",
        "A30 : no credits taken/ all credits paid back duly\n",
        "\n",
        "A31 : all credits at this bank paid back duly\n",
        "\n",
        "A32 : existing credits paid back duly till now\n",
        "\n",
        "A33 : delay in paying off in the past\n",
        "\n",
        "A34 : critical account/ other credits existing (not at this bank)\n",
        "\n",
        "### Attribute 4: (qualitative)\n",
        "Purpose\n",
        "\n",
        "A40 : car (new)\n",
        "\n",
        "A41 : car (used)\n",
        "\n",
        "A42 : furniture/equipment\n",
        "\n",
        "A43 : radio/television\n",
        "\n",
        "A44 : domestic appliances\n",
        "\n",
        "A45 : repairs\n",
        "\n",
        "A46 : education\n",
        "\n",
        "A47 : (vacation - does not exist?)\n",
        "\n",
        "A48 : retraining\n",
        "\n",
        "A49 : business\n",
        "\n",
        "A410 : others\n",
        "\n",
        "### Attribute 5: (numerical)\n",
        "Credit amount\n",
        "\n",
        "### Attibute 6: (qualitative)\n",
        "Savings account/bonds\n",
        "\n",
        "A61 : ... < 100 DM\n",
        "\n",
        "A62 : 100 <= ... < 500 DM\n",
        "\n",
        "A63 : 500 <= ... < 1000 DM\n",
        "\n",
        "A64 : .. >= 1000 DM\n",
        "\n",
        "A65 : unknown/ no savings account\n",
        "\n",
        "\n",
        "### Attribute 7: (qualitative)\n",
        "Present employment since\n",
        "\n",
        "A71 : unemployed\n",
        "\n",
        "A72 : ... < 1 year\n",
        "\n",
        "A73 : 1 <= ... < 4 years\n",
        "\n",
        "A74 : 4 <= ... < 7 years\n",
        "\n",
        "A75 : .. >= 7 years\n",
        "\n",
        "### Attribute 8: (numerical)\n",
        "Installment rate in percentage of disposable income\n",
        "\n",
        "### Attribute 9: (qualitative)\n",
        "Personal status and sex\n",
        "\n",
        "A91 : male : divorced/separated\n",
        "\n",
        "A92 : female : divorced/separated/married\n",
        "\n",
        "A93 : male : single\n",
        "\n",
        "A94 : male : married/widowed\n",
        "\n",
        "A95 : female : single\n",
        "\n",
        "### Attribute 10: (qualitative)\n",
        "Other debtors / guarantors\n",
        "\n",
        "A101 : none\n",
        "\n",
        "A102 : co-applicant\n",
        "\n",
        "A103 : guarantor\n",
        "\n",
        "### Attribute 11: (numerical)\n",
        "Present residence since\n",
        "\n",
        "### Attribute 12: (qualitative)\n",
        "Property\n",
        "\n",
        "A121 : real estate\n",
        "\n",
        "A122 : if not A121 : building society savings agreement/ life insurance\n",
        "\n",
        "A123 : if not A121/A122 : car or other, not in attribute 6\n",
        "\n",
        "A124 : unknown / no property\n",
        "\n",
        "### Attribute 13: (numerical)\n",
        "Age in years\n",
        "\n",
        "### Attribute 14: (qualitative)\n",
        "Other installment plans\n",
        "\n",
        "A141 : bank\n",
        "\n",
        "A142 : stores\n",
        "\n",
        "A143 : none\n",
        "\n",
        "### Attribute 15: (qualitative)\n",
        "Housing\n",
        "\n",
        "A151 : rent\n",
        "\n",
        "A152 : own\n",
        "\n",
        "A153 : for free\n",
        "\n",
        "### Attribute 16: (numerical)\n",
        "Number of existing credits at this bank\n",
        "\n",
        "### Attribute 17: (qualitative)\n",
        "Job\n",
        "\n",
        "A171 : unemployed/ unskilled - non-resident\n",
        "\n",
        "A172 : unskilled - resident\n",
        "\n",
        "A173 : skilled employee / official\n",
        "\n",
        "A174 : management/ self-employed/\n",
        "\n",
        "highly qualified employee/ officer\n",
        "\n",
        "### Attribute 18: (numerical)\n",
        "Number of people being liable to provide maintenance for\n",
        "\n",
        "### Attribute 19: (qualitative)\n",
        "Telephone\n",
        "\n",
        "A191 : none\n",
        "\n",
        "A192 : yes, registered under the customers name\n",
        "\n",
        "### Attribute 20: (qualitative)\n",
        "foreign worker\n",
        "\n",
        "A201 : yes\n",
        "\n",
        "A202 : no\n",
        "\n",
        "-------------------------------\n",
        "\n",
        "Fedor modified it for convenience. He replaced values of orginal variables with numbers, e.g., Attribute 3 (credit history) from A30, A31, A32, A33, A34, to 0, 1, 2, 3, 4 repsectively. And he replaced values of categorical variables with meaningful descriptions."
      ]
    },
    {
      "cell_type": "code",
      "execution_count": null,
      "metadata": {
        "hideCode": false,
        "hidePrompt": false,
        "colab": {
          "base_uri": "https://localhost:8080/"
        },
        "id": "8sVlY_rVQC2-",
        "outputId": "7830cd98-d747-4181-89db-6a20ba0f5d55"
      },
      "outputs": [
        {
          "output_type": "execute_result",
          "data": {
            "text/plain": [
              "(1000, 21)"
            ]
          },
          "metadata": {},
          "execution_count": 3
        }
      ],
      "source": [
        "#### Loading data from Google Drive - thanks to ChatGPT\n",
        "#### https://drive.google.com/file/d/1hZKbzU4SQQNlJxJ9Jn3nt7ICLkSVVISS/view?usp=sharing\n",
        "\n",
        "import requests\n",
        "from io import StringIO\n",
        "\n",
        "# Set the file ID of the CSV file you want to load\n",
        "file_id = \"1hZKbzU4SQQNlJxJ9Jn3nt7ICLkSVVISS\"\n",
        "\n",
        "# Set the URL to download the file using the Drive API\n",
        "url = f\"https://drive.google.com/uc?id={file_id}&export=download\"\n",
        "\n",
        "# Make a GET request to download the file and decode the content\n",
        "content = requests.get(url).content.decode(\"utf-8\")\n",
        "\n",
        "# Convert the string content to a pandas dataframe\n",
        "dataset = pd.read_csv(StringIO(content))\n",
        "dataset.shape"
      ]
    },
    {
      "cell_type": "markdown",
      "metadata": {
        "hideCode": false,
        "hidePrompt": false,
        "id": "HrNYjf8hQC2_"
      },
      "source": [
        "Here is what the data look like. Note that there are categorical, ordinal, and numeric variables.\n",
        "\n",
        "The response variable, `Y`, takes values in the set $\\{\\mbox{yes},\\mbox{no}\\}$."
      ]
    },
    {
      "cell_type": "code",
      "execution_count": null,
      "metadata": {
        "hideCode": false,
        "hidePrompt": false,
        "colab": {
          "base_uri": "https://localhost:8080/",
          "height": 386
        },
        "id": "gBgR_bi8QC2_",
        "outputId": "5e11e595-f547-4794-97b6-c280365f3f6c"
      },
      "outputs": [
        {
          "output_type": "execute_result",
          "data": {
            "text/plain": [
              "   Checking_account  Duration  Credit_history              Purpose  Amount  \\\n",
              "0                 1         6               4     radio/television    1169   \n",
              "1                 2        48               2     radio/television    5951   \n",
              "2                 0        12               4            education    2096   \n",
              "3                 1        42               2  furniture/equipment    7882   \n",
              "4                 1        24               3            car (new)    4870   \n",
              "\n",
              "   Savings_account  Employed_since  Installment_rate  \\\n",
              "0                0               4                 4   \n",
              "1                1               2                 2   \n",
              "2                1               3                 2   \n",
              "3                1               3                 2   \n",
              "4                1               2                 3   \n",
              "\n",
              "                      Personal_status Other_debtors  ...        Property Age  \\\n",
              "0                        male: single          none  ...     real estate  67   \n",
              "1  female: divorced/separated/married          none  ...     real estate  22   \n",
              "2                        male: single          none  ...     real estate  49   \n",
              "3                        male: single     guarantor  ...  life insurance  45   \n",
              "4                        male: single          none  ...         unknown  53   \n",
              "\n",
              "   Other_installment_plans Housing  Number_of_existing_credits  \\\n",
              "0                     none       1                           2   \n",
              "1                     none       1                           1   \n",
              "2                     none       1                           1   \n",
              "3                     none       0                           1   \n",
              "4                     none       0                           2   \n",
              "\n",
              "                Job Number_of_dependants  Telephone Foreign_worker    Y  \n",
              "0  skilled employee                    1        yes            yes   no  \n",
              "1  skilled employee                    1       none            yes  yes  \n",
              "2         unskilled                    2       none            yes   no  \n",
              "3  skilled employee                    2       none            yes   no  \n",
              "4  skilled employee                    2       none            yes  yes  \n",
              "\n",
              "[5 rows x 21 columns]"
            ],
            "text/html": [
              "\n",
              "  <div id=\"df-780c759b-dd4e-4f07-85e1-ef45b676bba1\">\n",
              "    <div class=\"colab-df-container\">\n",
              "      <div>\n",
              "<style scoped>\n",
              "    .dataframe tbody tr th:only-of-type {\n",
              "        vertical-align: middle;\n",
              "    }\n",
              "\n",
              "    .dataframe tbody tr th {\n",
              "        vertical-align: top;\n",
              "    }\n",
              "\n",
              "    .dataframe thead th {\n",
              "        text-align: right;\n",
              "    }\n",
              "</style>\n",
              "<table border=\"1\" class=\"dataframe\">\n",
              "  <thead>\n",
              "    <tr style=\"text-align: right;\">\n",
              "      <th></th>\n",
              "      <th>Checking_account</th>\n",
              "      <th>Duration</th>\n",
              "      <th>Credit_history</th>\n",
              "      <th>Purpose</th>\n",
              "      <th>Amount</th>\n",
              "      <th>Savings_account</th>\n",
              "      <th>Employed_since</th>\n",
              "      <th>Installment_rate</th>\n",
              "      <th>Personal_status</th>\n",
              "      <th>Other_debtors</th>\n",
              "      <th>...</th>\n",
              "      <th>Property</th>\n",
              "      <th>Age</th>\n",
              "      <th>Other_installment_plans</th>\n",
              "      <th>Housing</th>\n",
              "      <th>Number_of_existing_credits</th>\n",
              "      <th>Job</th>\n",
              "      <th>Number_of_dependants</th>\n",
              "      <th>Telephone</th>\n",
              "      <th>Foreign_worker</th>\n",
              "      <th>Y</th>\n",
              "    </tr>\n",
              "  </thead>\n",
              "  <tbody>\n",
              "    <tr>\n",
              "      <th>0</th>\n",
              "      <td>1</td>\n",
              "      <td>6</td>\n",
              "      <td>4</td>\n",
              "      <td>radio/television</td>\n",
              "      <td>1169</td>\n",
              "      <td>0</td>\n",
              "      <td>4</td>\n",
              "      <td>4</td>\n",
              "      <td>male: single</td>\n",
              "      <td>none</td>\n",
              "      <td>...</td>\n",
              "      <td>real estate</td>\n",
              "      <td>67</td>\n",
              "      <td>none</td>\n",
              "      <td>1</td>\n",
              "      <td>2</td>\n",
              "      <td>skilled employee</td>\n",
              "      <td>1</td>\n",
              "      <td>yes</td>\n",
              "      <td>yes</td>\n",
              "      <td>no</td>\n",
              "    </tr>\n",
              "    <tr>\n",
              "      <th>1</th>\n",
              "      <td>2</td>\n",
              "      <td>48</td>\n",
              "      <td>2</td>\n",
              "      <td>radio/television</td>\n",
              "      <td>5951</td>\n",
              "      <td>1</td>\n",
              "      <td>2</td>\n",
              "      <td>2</td>\n",
              "      <td>female: divorced/separated/married</td>\n",
              "      <td>none</td>\n",
              "      <td>...</td>\n",
              "      <td>real estate</td>\n",
              "      <td>22</td>\n",
              "      <td>none</td>\n",
              "      <td>1</td>\n",
              "      <td>1</td>\n",
              "      <td>skilled employee</td>\n",
              "      <td>1</td>\n",
              "      <td>none</td>\n",
              "      <td>yes</td>\n",
              "      <td>yes</td>\n",
              "    </tr>\n",
              "    <tr>\n",
              "      <th>2</th>\n",
              "      <td>0</td>\n",
              "      <td>12</td>\n",
              "      <td>4</td>\n",
              "      <td>education</td>\n",
              "      <td>2096</td>\n",
              "      <td>1</td>\n",
              "      <td>3</td>\n",
              "      <td>2</td>\n",
              "      <td>male: single</td>\n",
              "      <td>none</td>\n",
              "      <td>...</td>\n",
              "      <td>real estate</td>\n",
              "      <td>49</td>\n",
              "      <td>none</td>\n",
              "      <td>1</td>\n",
              "      <td>1</td>\n",
              "      <td>unskilled</td>\n",
              "      <td>2</td>\n",
              "      <td>none</td>\n",
              "      <td>yes</td>\n",
              "      <td>no</td>\n",
              "    </tr>\n",
              "    <tr>\n",
              "      <th>3</th>\n",
              "      <td>1</td>\n",
              "      <td>42</td>\n",
              "      <td>2</td>\n",
              "      <td>furniture/equipment</td>\n",
              "      <td>7882</td>\n",
              "      <td>1</td>\n",
              "      <td>3</td>\n",
              "      <td>2</td>\n",
              "      <td>male: single</td>\n",
              "      <td>guarantor</td>\n",
              "      <td>...</td>\n",
              "      <td>life insurance</td>\n",
              "      <td>45</td>\n",
              "      <td>none</td>\n",
              "      <td>0</td>\n",
              "      <td>1</td>\n",
              "      <td>skilled employee</td>\n",
              "      <td>2</td>\n",
              "      <td>none</td>\n",
              "      <td>yes</td>\n",
              "      <td>no</td>\n",
              "    </tr>\n",
              "    <tr>\n",
              "      <th>4</th>\n",
              "      <td>1</td>\n",
              "      <td>24</td>\n",
              "      <td>3</td>\n",
              "      <td>car (new)</td>\n",
              "      <td>4870</td>\n",
              "      <td>1</td>\n",
              "      <td>2</td>\n",
              "      <td>3</td>\n",
              "      <td>male: single</td>\n",
              "      <td>none</td>\n",
              "      <td>...</td>\n",
              "      <td>unknown</td>\n",
              "      <td>53</td>\n",
              "      <td>none</td>\n",
              "      <td>0</td>\n",
              "      <td>2</td>\n",
              "      <td>skilled employee</td>\n",
              "      <td>2</td>\n",
              "      <td>none</td>\n",
              "      <td>yes</td>\n",
              "      <td>yes</td>\n",
              "    </tr>\n",
              "  </tbody>\n",
              "</table>\n",
              "<p>5 rows × 21 columns</p>\n",
              "</div>\n",
              "      <button class=\"colab-df-convert\" onclick=\"convertToInteractive('df-780c759b-dd4e-4f07-85e1-ef45b676bba1')\"\n",
              "              title=\"Convert this dataframe to an interactive table.\"\n",
              "              style=\"display:none;\">\n",
              "        \n",
              "  <svg xmlns=\"http://www.w3.org/2000/svg\" height=\"24px\"viewBox=\"0 0 24 24\"\n",
              "       width=\"24px\">\n",
              "    <path d=\"M0 0h24v24H0V0z\" fill=\"none\"/>\n",
              "    <path d=\"M18.56 5.44l.94 2.06.94-2.06 2.06-.94-2.06-.94-.94-2.06-.94 2.06-2.06.94zm-11 1L8.5 8.5l.94-2.06 2.06-.94-2.06-.94L8.5 2.5l-.94 2.06-2.06.94zm10 10l.94 2.06.94-2.06 2.06-.94-2.06-.94-.94-2.06-.94 2.06-2.06.94z\"/><path d=\"M17.41 7.96l-1.37-1.37c-.4-.4-.92-.59-1.43-.59-.52 0-1.04.2-1.43.59L10.3 9.45l-7.72 7.72c-.78.78-.78 2.05 0 2.83L4 21.41c.39.39.9.59 1.41.59.51 0 1.02-.2 1.41-.59l7.78-7.78 2.81-2.81c.8-.78.8-2.07 0-2.86zM5.41 20L4 18.59l7.72-7.72 1.47 1.35L5.41 20z\"/>\n",
              "  </svg>\n",
              "      </button>\n",
              "      \n",
              "  <style>\n",
              "    .colab-df-container {\n",
              "      display:flex;\n",
              "      flex-wrap:wrap;\n",
              "      gap: 12px;\n",
              "    }\n",
              "\n",
              "    .colab-df-convert {\n",
              "      background-color: #E8F0FE;\n",
              "      border: none;\n",
              "      border-radius: 50%;\n",
              "      cursor: pointer;\n",
              "      display: none;\n",
              "      fill: #1967D2;\n",
              "      height: 32px;\n",
              "      padding: 0 0 0 0;\n",
              "      width: 32px;\n",
              "    }\n",
              "\n",
              "    .colab-df-convert:hover {\n",
              "      background-color: #E2EBFA;\n",
              "      box-shadow: 0px 1px 2px rgba(60, 64, 67, 0.3), 0px 1px 3px 1px rgba(60, 64, 67, 0.15);\n",
              "      fill: #174EA6;\n",
              "    }\n",
              "\n",
              "    [theme=dark] .colab-df-convert {\n",
              "      background-color: #3B4455;\n",
              "      fill: #D2E3FC;\n",
              "    }\n",
              "\n",
              "    [theme=dark] .colab-df-convert:hover {\n",
              "      background-color: #434B5C;\n",
              "      box-shadow: 0px 1px 3px 1px rgba(0, 0, 0, 0.15);\n",
              "      filter: drop-shadow(0px 1px 2px rgba(0, 0, 0, 0.3));\n",
              "      fill: #FFFFFF;\n",
              "    }\n",
              "  </style>\n",
              "\n",
              "      <script>\n",
              "        const buttonEl =\n",
              "          document.querySelector('#df-780c759b-dd4e-4f07-85e1-ef45b676bba1 button.colab-df-convert');\n",
              "        buttonEl.style.display =\n",
              "          google.colab.kernel.accessAllowed ? 'block' : 'none';\n",
              "\n",
              "        async function convertToInteractive(key) {\n",
              "          const element = document.querySelector('#df-780c759b-dd4e-4f07-85e1-ef45b676bba1');\n",
              "          const dataTable =\n",
              "            await google.colab.kernel.invokeFunction('convertToInteractive',\n",
              "                                                     [key], {});\n",
              "          if (!dataTable) return;\n",
              "\n",
              "          const docLinkHtml = 'Like what you see? Visit the ' +\n",
              "            '<a target=\"_blank\" href=https://colab.research.google.com/notebooks/data_table.ipynb>data table notebook</a>'\n",
              "            + ' to learn more about interactive tables.';\n",
              "          element.innerHTML = '';\n",
              "          dataTable['output_type'] = 'display_data';\n",
              "          await google.colab.output.renderOutput(dataTable, element);\n",
              "          const docLink = document.createElement('div');\n",
              "          docLink.innerHTML = docLinkHtml;\n",
              "          element.appendChild(docLink);\n",
              "        }\n",
              "      </script>\n",
              "    </div>\n",
              "  </div>\n",
              "  "
            ]
          },
          "metadata": {},
          "execution_count": 4
        }
      ],
      "source": [
        "dataset.head()"
      ]
    },
    {
      "cell_type": "markdown",
      "metadata": {
        "hideCode": false,
        "hidePrompt": false,
        "id": "CNUZjQctQC2_"
      },
      "source": [
        "And some simple description"
      ]
    },
    {
      "cell_type": "code",
      "execution_count": null,
      "metadata": {
        "hideCode": false,
        "hidePrompt": false,
        "colab": {
          "base_uri": "https://localhost:8080/",
          "height": 364
        },
        "id": "Dbkf5slbQC2_",
        "outputId": "af1a6135-b121-41a8-b67a-2bab7174b295"
      },
      "outputs": [
        {
          "output_type": "execute_result",
          "data": {
            "text/plain": [
              "       Checking_account     Duration  Credit_history        Amount  \\\n",
              "count       1000.000000  1000.000000      1000.00000   1000.000000   \n",
              "mean           1.001000    20.903000         2.54500   3271.258000   \n",
              "std            0.957034    12.058814         1.08312   2822.736876   \n",
              "min            0.000000     4.000000         0.00000    250.000000   \n",
              "25%            0.000000    12.000000         2.00000   1365.500000   \n",
              "50%            1.000000    18.000000         2.00000   2319.500000   \n",
              "75%            2.000000    24.000000         4.00000   3972.250000   \n",
              "max            3.000000    72.000000         4.00000  18424.000000   \n",
              "\n",
              "       Savings_account  Employed_since  Installment_rate  \\\n",
              "count      1000.000000     1000.000000       1000.000000   \n",
              "mean          1.190000        2.384000          2.973000   \n",
              "std           0.966869        1.208306          1.118715   \n",
              "min           0.000000        0.000000          1.000000   \n",
              "25%           1.000000        2.000000          2.000000   \n",
              "50%           1.000000        2.000000          3.000000   \n",
              "75%           1.000000        4.000000          4.000000   \n",
              "max           4.000000        4.000000          4.000000   \n",
              "\n",
              "       Present_residence_since          Age      Housing  \\\n",
              "count              1000.000000  1000.000000  1000.000000   \n",
              "mean                  2.845000    35.546000     1.071000   \n",
              "std                   1.103718    11.375469     0.531264   \n",
              "min                   1.000000    19.000000     0.000000   \n",
              "25%                   2.000000    27.000000     1.000000   \n",
              "50%                   3.000000    33.000000     1.000000   \n",
              "75%                   4.000000    42.000000     1.000000   \n",
              "max                   4.000000    75.000000     2.000000   \n",
              "\n",
              "       Number_of_existing_credits  Number_of_dependants  \n",
              "count                 1000.000000           1000.000000  \n",
              "mean                     1.407000              1.155000  \n",
              "std                      0.577654              0.362086  \n",
              "min                      1.000000              1.000000  \n",
              "25%                      1.000000              1.000000  \n",
              "50%                      1.000000              1.000000  \n",
              "75%                      2.000000              1.000000  \n",
              "max                      4.000000              2.000000  "
            ],
            "text/html": [
              "\n",
              "  <div id=\"df-8ac61c13-18d9-4ea6-a91b-61f04c9338c1\">\n",
              "    <div class=\"colab-df-container\">\n",
              "      <div>\n",
              "<style scoped>\n",
              "    .dataframe tbody tr th:only-of-type {\n",
              "        vertical-align: middle;\n",
              "    }\n",
              "\n",
              "    .dataframe tbody tr th {\n",
              "        vertical-align: top;\n",
              "    }\n",
              "\n",
              "    .dataframe thead th {\n",
              "        text-align: right;\n",
              "    }\n",
              "</style>\n",
              "<table border=\"1\" class=\"dataframe\">\n",
              "  <thead>\n",
              "    <tr style=\"text-align: right;\">\n",
              "      <th></th>\n",
              "      <th>Checking_account</th>\n",
              "      <th>Duration</th>\n",
              "      <th>Credit_history</th>\n",
              "      <th>Amount</th>\n",
              "      <th>Savings_account</th>\n",
              "      <th>Employed_since</th>\n",
              "      <th>Installment_rate</th>\n",
              "      <th>Present_residence_since</th>\n",
              "      <th>Age</th>\n",
              "      <th>Housing</th>\n",
              "      <th>Number_of_existing_credits</th>\n",
              "      <th>Number_of_dependants</th>\n",
              "    </tr>\n",
              "  </thead>\n",
              "  <tbody>\n",
              "    <tr>\n",
              "      <th>count</th>\n",
              "      <td>1000.000000</td>\n",
              "      <td>1000.000000</td>\n",
              "      <td>1000.00000</td>\n",
              "      <td>1000.000000</td>\n",
              "      <td>1000.000000</td>\n",
              "      <td>1000.000000</td>\n",
              "      <td>1000.000000</td>\n",
              "      <td>1000.000000</td>\n",
              "      <td>1000.000000</td>\n",
              "      <td>1000.000000</td>\n",
              "      <td>1000.000000</td>\n",
              "      <td>1000.000000</td>\n",
              "    </tr>\n",
              "    <tr>\n",
              "      <th>mean</th>\n",
              "      <td>1.001000</td>\n",
              "      <td>20.903000</td>\n",
              "      <td>2.54500</td>\n",
              "      <td>3271.258000</td>\n",
              "      <td>1.190000</td>\n",
              "      <td>2.384000</td>\n",
              "      <td>2.973000</td>\n",
              "      <td>2.845000</td>\n",
              "      <td>35.546000</td>\n",
              "      <td>1.071000</td>\n",
              "      <td>1.407000</td>\n",
              "      <td>1.155000</td>\n",
              "    </tr>\n",
              "    <tr>\n",
              "      <th>std</th>\n",
              "      <td>0.957034</td>\n",
              "      <td>12.058814</td>\n",
              "      <td>1.08312</td>\n",
              "      <td>2822.736876</td>\n",
              "      <td>0.966869</td>\n",
              "      <td>1.208306</td>\n",
              "      <td>1.118715</td>\n",
              "      <td>1.103718</td>\n",
              "      <td>11.375469</td>\n",
              "      <td>0.531264</td>\n",
              "      <td>0.577654</td>\n",
              "      <td>0.362086</td>\n",
              "    </tr>\n",
              "    <tr>\n",
              "      <th>min</th>\n",
              "      <td>0.000000</td>\n",
              "      <td>4.000000</td>\n",
              "      <td>0.00000</td>\n",
              "      <td>250.000000</td>\n",
              "      <td>0.000000</td>\n",
              "      <td>0.000000</td>\n",
              "      <td>1.000000</td>\n",
              "      <td>1.000000</td>\n",
              "      <td>19.000000</td>\n",
              "      <td>0.000000</td>\n",
              "      <td>1.000000</td>\n",
              "      <td>1.000000</td>\n",
              "    </tr>\n",
              "    <tr>\n",
              "      <th>25%</th>\n",
              "      <td>0.000000</td>\n",
              "      <td>12.000000</td>\n",
              "      <td>2.00000</td>\n",
              "      <td>1365.500000</td>\n",
              "      <td>1.000000</td>\n",
              "      <td>2.000000</td>\n",
              "      <td>2.000000</td>\n",
              "      <td>2.000000</td>\n",
              "      <td>27.000000</td>\n",
              "      <td>1.000000</td>\n",
              "      <td>1.000000</td>\n",
              "      <td>1.000000</td>\n",
              "    </tr>\n",
              "    <tr>\n",
              "      <th>50%</th>\n",
              "      <td>1.000000</td>\n",
              "      <td>18.000000</td>\n",
              "      <td>2.00000</td>\n",
              "      <td>2319.500000</td>\n",
              "      <td>1.000000</td>\n",
              "      <td>2.000000</td>\n",
              "      <td>3.000000</td>\n",
              "      <td>3.000000</td>\n",
              "      <td>33.000000</td>\n",
              "      <td>1.000000</td>\n",
              "      <td>1.000000</td>\n",
              "      <td>1.000000</td>\n",
              "    </tr>\n",
              "    <tr>\n",
              "      <th>75%</th>\n",
              "      <td>2.000000</td>\n",
              "      <td>24.000000</td>\n",
              "      <td>4.00000</td>\n",
              "      <td>3972.250000</td>\n",
              "      <td>1.000000</td>\n",
              "      <td>4.000000</td>\n",
              "      <td>4.000000</td>\n",
              "      <td>4.000000</td>\n",
              "      <td>42.000000</td>\n",
              "      <td>1.000000</td>\n",
              "      <td>2.000000</td>\n",
              "      <td>1.000000</td>\n",
              "    </tr>\n",
              "    <tr>\n",
              "      <th>max</th>\n",
              "      <td>3.000000</td>\n",
              "      <td>72.000000</td>\n",
              "      <td>4.00000</td>\n",
              "      <td>18424.000000</td>\n",
              "      <td>4.000000</td>\n",
              "      <td>4.000000</td>\n",
              "      <td>4.000000</td>\n",
              "      <td>4.000000</td>\n",
              "      <td>75.000000</td>\n",
              "      <td>2.000000</td>\n",
              "      <td>4.000000</td>\n",
              "      <td>2.000000</td>\n",
              "    </tr>\n",
              "  </tbody>\n",
              "</table>\n",
              "</div>\n",
              "      <button class=\"colab-df-convert\" onclick=\"convertToInteractive('df-8ac61c13-18d9-4ea6-a91b-61f04c9338c1')\"\n",
              "              title=\"Convert this dataframe to an interactive table.\"\n",
              "              style=\"display:none;\">\n",
              "        \n",
              "  <svg xmlns=\"http://www.w3.org/2000/svg\" height=\"24px\"viewBox=\"0 0 24 24\"\n",
              "       width=\"24px\">\n",
              "    <path d=\"M0 0h24v24H0V0z\" fill=\"none\"/>\n",
              "    <path d=\"M18.56 5.44l.94 2.06.94-2.06 2.06-.94-2.06-.94-.94-2.06-.94 2.06-2.06.94zm-11 1L8.5 8.5l.94-2.06 2.06-.94-2.06-.94L8.5 2.5l-.94 2.06-2.06.94zm10 10l.94 2.06.94-2.06 2.06-.94-2.06-.94-.94-2.06-.94 2.06-2.06.94z\"/><path d=\"M17.41 7.96l-1.37-1.37c-.4-.4-.92-.59-1.43-.59-.52 0-1.04.2-1.43.59L10.3 9.45l-7.72 7.72c-.78.78-.78 2.05 0 2.83L4 21.41c.39.39.9.59 1.41.59.51 0 1.02-.2 1.41-.59l7.78-7.78 2.81-2.81c.8-.78.8-2.07 0-2.86zM5.41 20L4 18.59l7.72-7.72 1.47 1.35L5.41 20z\"/>\n",
              "  </svg>\n",
              "      </button>\n",
              "      \n",
              "  <style>\n",
              "    .colab-df-container {\n",
              "      display:flex;\n",
              "      flex-wrap:wrap;\n",
              "      gap: 12px;\n",
              "    }\n",
              "\n",
              "    .colab-df-convert {\n",
              "      background-color: #E8F0FE;\n",
              "      border: none;\n",
              "      border-radius: 50%;\n",
              "      cursor: pointer;\n",
              "      display: none;\n",
              "      fill: #1967D2;\n",
              "      height: 32px;\n",
              "      padding: 0 0 0 0;\n",
              "      width: 32px;\n",
              "    }\n",
              "\n",
              "    .colab-df-convert:hover {\n",
              "      background-color: #E2EBFA;\n",
              "      box-shadow: 0px 1px 2px rgba(60, 64, 67, 0.3), 0px 1px 3px 1px rgba(60, 64, 67, 0.15);\n",
              "      fill: #174EA6;\n",
              "    }\n",
              "\n",
              "    [theme=dark] .colab-df-convert {\n",
              "      background-color: #3B4455;\n",
              "      fill: #D2E3FC;\n",
              "    }\n",
              "\n",
              "    [theme=dark] .colab-df-convert:hover {\n",
              "      background-color: #434B5C;\n",
              "      box-shadow: 0px 1px 3px 1px rgba(0, 0, 0, 0.15);\n",
              "      filter: drop-shadow(0px 1px 2px rgba(0, 0, 0, 0.3));\n",
              "      fill: #FFFFFF;\n",
              "    }\n",
              "  </style>\n",
              "\n",
              "      <script>\n",
              "        const buttonEl =\n",
              "          document.querySelector('#df-8ac61c13-18d9-4ea6-a91b-61f04c9338c1 button.colab-df-convert');\n",
              "        buttonEl.style.display =\n",
              "          google.colab.kernel.accessAllowed ? 'block' : 'none';\n",
              "\n",
              "        async function convertToInteractive(key) {\n",
              "          const element = document.querySelector('#df-8ac61c13-18d9-4ea6-a91b-61f04c9338c1');\n",
              "          const dataTable =\n",
              "            await google.colab.kernel.invokeFunction('convertToInteractive',\n",
              "                                                     [key], {});\n",
              "          if (!dataTable) return;\n",
              "\n",
              "          const docLinkHtml = 'Like what you see? Visit the ' +\n",
              "            '<a target=\"_blank\" href=https://colab.research.google.com/notebooks/data_table.ipynb>data table notebook</a>'\n",
              "            + ' to learn more about interactive tables.';\n",
              "          element.innerHTML = '';\n",
              "          dataTable['output_type'] = 'display_data';\n",
              "          await google.colab.output.renderOutput(dataTable, element);\n",
              "          const docLink = document.createElement('div');\n",
              "          docLink.innerHTML = docLinkHtml;\n",
              "          element.appendChild(docLink);\n",
              "        }\n",
              "      </script>\n",
              "    </div>\n",
              "  </div>\n",
              "  "
            ]
          },
          "metadata": {},
          "execution_count": 5
        }
      ],
      "source": [
        "dataset.describe()"
      ]
    },
    {
      "cell_type": "markdown",
      "metadata": {
        "hideCode": false,
        "hidePrompt": false,
        "id": "u4ryP8pvQC2_"
      },
      "source": [
        "## Data exploration\n",
        "\n",
        "Below is a scatterplot of the data in the axes (Age, Amount)"
      ]
    },
    {
      "cell_type": "code",
      "execution_count": null,
      "metadata": {
        "hideCode": false,
        "hidePrompt": false,
        "scrolled": true,
        "colab": {
          "base_uri": "https://localhost:8080/",
          "height": 542
        },
        "id": "nL0scg7vQC2_",
        "outputId": "5ccc2fea-9eb4-439e-fac0-4ff58e58b40b"
      },
      "outputs": [
        {
          "output_type": "display_data",
          "data": {
            "text/html": [
              "<html>\n",
              "<head><meta charset=\"utf-8\" /></head>\n",
              "<body>\n",
              "    <div>            <script src=\"https://cdnjs.cloudflare.com/ajax/libs/mathjax/2.7.5/MathJax.js?config=TeX-AMS-MML_SVG\"></script><script type=\"text/javascript\">if (window.MathJax && window.MathJax.Hub && window.MathJax.Hub.Config) {window.MathJax.Hub.Config({SVG: {font: \"STIX-Web\"}});}</script>                <script type=\"text/javascript\">window.PlotlyConfig = {MathJaxConfig: 'local'};</script>\n",
              "        <script src=\"https://cdn.plot.ly/plotly-2.18.2.min.js\"></script>                <div id=\"b20f63e8-4c7d-49d2-9542-7f5c1a135523\" class=\"plotly-graph-div\" style=\"height:525px; width:100%;\"></div>            <script type=\"text/javascript\">                                    window.PLOTLYENV=window.PLOTLYENV || {};                                    if (document.getElementById(\"b20f63e8-4c7d-49d2-9542-7f5c1a135523\")) {                    Plotly.newPlot(                        \"b20f63e8-4c7d-49d2-9542-7f5c1a135523\",                        [{\"hovertemplate\":\"Y=no<br>Age=%{x}<br>Amount=%{y}<extra></extra>\",\"legendgroup\":\"no\",\"marker\":{\"color\":\"#636efa\",\"symbol\":\"circle\"},\"mode\":\"markers\",\"name\":\"no\",\"orientation\":\"v\",\"showlegend\":true,\"x\":[67,49,45,35,53,35,61,22,28,53,25,31,48,44,48,44,26,36,39,42,34,36,27,30,57,33,31,37,24,30,26,44,24,35,39,23,39,28,29,30,25,31,26,31,23,27,50,26,48,29,22,25,30,46,51,41,66,51,39,22,47,24,58,52,29,27,30,56,54,20,54,61,34,36,36,41,24,24,35,26,32,30,35,31,23,28,35,47,27,36,41,24,63,30,40,34,24,27,47,21,38,27,35,44,27,30,27,23,30,39,51,28,46,42,38,24,29,36,48,45,38,34,36,30,36,70,36,32,20,25,26,33,42,52,31,65,50,31,68,33,29,28,36,52,27,26,38,38,43,26,21,55,33,45,51,39,31,23,24,64,26,23,30,32,30,27,22,51,35,25,42,35,39,51,27,35,25,52,35,26,39,46,35,24,27,35,23,57,27,55,36,57,32,36,38,25,32,37,36,32,26,49,29,23,50,49,63,37,35,26,31,49,26,44,56,46,20,45,43,32,54,49,33,24,22,40,25,26,29,38,48,32,27,34,28,36,39,49,34,31,28,75,23,28,31,24,26,25,33,37,43,23,23,34,23,38,46,49,28,61,37,36,21,36,27,22,40,36,33,23,63,34,36,52,39,25,26,26,25,21,40,27,27,30,19,39,31,31,32,55,46,43,39,28,27,43,43,27,26,20,35,40,35,23,31,20,30,47,34,21,29,46,20,74,36,33,25,23,37,65,39,30,29,41,35,55,30,29,34,35,29,36,27,32,37,36,34,38,34,63,32,26,35,36,24,25,39,44,23,26,57,30,44,52,62,35,26,26,27,38,39,40,32,28,42,49,36,28,45,32,26,20,54,37,40,43,36,44,23,26,30,31,42,41,32,41,26,25,75,37,45,60,61,37,32,35,23,45,27,67,49,29,37,23,34,41,38,26,22,27,24,27,33,27,49,26,52,36,21,58,42,36,32,45,23,22,74,33,45,29,22,48,27,37,49,27,22,35,41,36,64,28,23,47,28,21,34,38,33,32,32,50,35,22,37,28,41,23,50,35,50,27,34,27,47,27,31,42,24,26,33,64,26,56,37,33,47,31,34,27,30,35,31,25,25,29,44,28,50,29,38,24,40,47,41,32,35,25,37,32,46,25,63,40,32,31,31,66,41,47,36,33,44,28,37,29,35,45,32,23,41,22,30,28,23,26,33,49,23,25,74,31,59,24,27,40,31,28,63,26,36,52,66,37,25,38,67,60,31,60,35,40,38,41,27,51,32,22,22,54,35,54,48,24,35,24,26,65,55,26,28,54,62,24,43,27,24,47,35,30,38,44,42,21,23,63,46,28,50,47,35,28,59,43,35,45,33,40,28,26,27,32,20,27,42,37,24,40,46,26,24,29,40,36,28,36,38,48,36,65,34,34,40,43,46,38,34,29,31,28,35,33,44,42,40,36,20,24,27,46,33,34,25,28,32,28,37,30,21,58,43,24,30,42,23,30,46,45,31,31,42,46,30,38,40,29,57,49,37,30,30,47,29,22,26,54,29,40,22,43,33,57,64,42,28,30,25,33,64,29,48,37,34,23,30,50,31,40,38,27],\"xaxis\":\"x\",\"y\":[1169,2096,7882,9055,2835,6948,3059,1567,1403,2424,8072,3430,2134,2647,2241,1804,2069,1374,426,409,2415,1913,4020,5866,1264,1474,6110,1225,458,2333,1158,6204,6187,1393,2299,1352,7228,2073,2333,5965,1262,3378,783,9566,1961,1391,1537,3181,5190,2171,1007,2394,8133,730,1164,5954,1526,4771,9436,3832,1213,1568,1755,2315,1412,1295,2249,618,1409,3617,1318,2012,2622,2337,7057,1469,2323,932,1919,2445,6078,7721,1410,1449,392,6260,1680,3578,2132,2366,3868,1768,781,2121,701,1860,8487,2708,1984,10144,1240,8613,2728,1881,709,4795,3416,2288,3566,860,682,5371,1582,1346,1924,5848,7758,6967,1288,339,3512,1898,2872,1055,1262,7308,909,2978,1577,3972,763,1414,2577,338,1963,571,3777,1360,1175,3244,2108,1382,2760,936,1168,5117,1495,10623,1935,1424,6568,1413,3074,3835,3342,932,3104,3913,3021,1364,625,1200,707,2978,4657,2613,3149,2507,2141,866,1544,1291,2522,1595,1185,3447,1258,717,1204,1925,666,2251,4151,2030,7418,2684,3812,1154,1657,1603,5302,2748,1231,6304,1533,999,2662,1402,12169,2697,2404,1262,1901,3368,1574,1445,1520,3878,10722,4788,7582,1092,1076,6419,4796,7629,4675,1287,2515,2745,672,1038,1543,4811,276,5381,5511,3749,1494,708,4351,701,3643,2910,2659,1028,3398,5801,1525,4473,1068,6615,2101,4169,1521,5743,3599,3213,4439,3949,1459,882,3758,1743,1236,3229,727,2331,776,1239,3399,2247,1766,1542,3850,3650,3001,3079,6070,2146,13756,2320,846,362,2212,1283,1330,4272,2238,1126,7374,2326,1449,1820,983,3249,1957,2406,11760,2578,2348,1516,1473,1887,802,2899,2197,1053,3235,1967,7253,1597,5842,8471,2782,3186,2028,958,1591,2779,2743,1149,1313,3448,1872,2058,2136,660,1287,3394,1884,1620,2629,1244,2576,1424,11054,518,2759,2670,2679,3905,343,4594,3620,1721,3017,754,1950,2924,7238,2764,4679,1238,2569,5152,1037,1478,3573,1201,3622,960,1163,3077,3757,1418,3518,1934,1237,368,2122,1585,1301,1323,5493,1126,2360,1413,8588,4686,2687,585,2255,609,1361,1203,700,5507,3488,1113,7966,1532,1503,662,2273,1503,1311,3105,1374,3612,3049,2032,1255,2022,1552,8858,996,1750,1995,1199,2964,683,4712,1553,2578,3979,5954,5433,806,1082,2788,2930,1927,937,3124,1388,2133,2799,1289,385,1965,1572,3863,2329,1275,2828,4526,2051,1300,3357,3632,12204,9157,3676,640,3652,1858,1979,2116,4042,3832,3660,1444,1393,1376,15653,1493,1308,1851,1880,4583,7476,2346,3973,10222,4221,6361,1297,2241,1050,1047,6314,3496,3609,3017,4139,5742,10366,2080,4530,5150,2384,1453,1538,2279,1478,5103,9857,6527,1347,2862,2753,3651,975,2631,2896,4716,2284,1236,1103,926,1800,1905,1377,2503,2528,5324,1206,2118,629,2476,1138,7596,3077,1505,3148,6148,790,250,1316,1275,6403,760,2603,3380,3990,4380,6761,2325,1048,3160,2483,14179,1797,2511,5248,3029,428,841,5771,1299,1393,5045,2214,2463,1155,2901,3617,1655,2812,3275,2223,1480,3535,3509,5711,3872,1940,1410,6468,1941,2675,2751,6313,1221,2892,3062,2301,1258,717,1549,1597,1795,4272,976,7472,590,930,9283,907,484,7432,1338,1554,15857,1101,3016,731,3780,1602,6681,2375,5084,886,601,2957,2611,2993,1559,3422,3976,1249,1364,4042,1471,10875,1474,894,3343,3577,5804,4526,2221,2389,3331,7409,652,7678,1343,1382,874,3590,1322,1940,3595,6742,7814,9277,2181,1098,2825,6614,7824,2442,1829,2171,5800,1169,8947,2606,1592,2186,3485,10477,1386,1278,1107,3763,3711,3594,3195,4454,2991,2142,2848,1817,12749,2002,1049,1867,1344,1747,1224,522,1498,2063,6842,3527,1546,929,1455,1845,8358,2859,3590,1893,1231,3656,1154,3069,1740,2353,3556,454,1715,3568,7166,3939,1514,7393,2831,1258,753,2427,2923,2028,1433,6289,1409,6579,1743,3565,1569,1936,3959,2390,1736,3857,804,4576],\"yaxis\":\"y\",\"type\":\"scatter\"},{\"hovertemplate\":\"Y=yes<br>Age=%{x}<br>Amount=%{y}<extra></extra>\",\"legendgroup\":\"yes\",\"marker\":{\"color\":\"#EF553B\",\"symbol\":\"circle\"},\"mode\":\"markers\",\"name\":\"yes\",\"orientation\":\"v\",\"showlegend\":true,\"x\":[22,53,28,25,24,60,32,44,63,25,37,58,57,52,23,61,25,37,40,34,44,47,28,33,58,39,39,25,30,23,25,27,30,29,29,66,22,20,33,31,33,34,26,53,28,30,40,36,74,20,54,34,36,21,34,27,40,21,50,66,27,53,22,26,30,23,61,29,24,22,24,29,37,45,28,34,32,48,28,26,42,37,44,33,24,25,31,28,32,30,24,24,23,44,24,32,29,28,23,26,23,25,42,60,37,57,38,46,27,22,28,42,35,33,33,25,55,29,25,26,41,30,34,61,31,35,29,22,23,28,33,26,47,42,20,29,27,38,24,27,34,26,23,24,53,31,28,33,42,23,31,34,43,24,34,22,28,29,27,31,24,37,36,31,23,27,30,33,20,47,60,20,40,32,23,36,31,30,34,28,50,22,48,22,21,32,38,65,29,44,19,25,26,27,40,27,26,38,40,37,45,42,41,23,43,41,24,29,46,24,25,35,27,34,24,24,21,25,59,21,23,26,37,23,55,32,39,35,24,30,31,25,25,25,23,50,27,39,51,24,26,24,54,46,26,41,33,36,47,23,29,25,48,29,23,68,57,33,32,29,28,35,25,27,43,53,23,42,43,25,31,32,68,33,39,22,55,46,39,22,30,28,42,30,43,31,24,28,26,45,35,23,29,36,47,25,49,33,26,23],\"xaxis\":\"x\",\"y\":[5951,4870,5234,1295,4308,1199,1282,12579,6836,4746,2100,6143,2225,6468,6229,1953,14421,1819,1977,3965,5943,12612,1108,797,15945,11938,6458,7855,7174,4281,1835,1924,639,3499,6887,766,2462,1282,1131,1935,950,2064,3414,7485,9572,4455,1647,884,5129,674,4591,3844,3915,3031,1501,951,4297,902,5293,1908,10961,7865,1478,4210,1823,14555,2767,915,4605,433,2150,2149,802,8978,3060,11998,4611,1024,9398,9960,3804,1344,10127,727,1237,685,2746,4249,1938,1864,7408,11590,4110,3384,1275,1136,959,6199,1246,4463,2406,2473,3446,14782,7685,14318,12976,1223,8648,2039,939,2292,1381,2579,1042,2762,1190,11328,1484,609,719,5096,1842,1512,4817,3386,1659,3092,448,654,1245,3114,1209,8318,2996,9034,3123,1216,1207,1309,6850,759,7127,3190,7119,2302,2631,2319,7763,1534,6350,2864,1333,626,6999,1331,2278,5003,3552,1928,1546,12389,1372,6758,3234,2820,1056,2384,2039,1217,2246,2718,1358,931,1442,4241,2775,918,1837,3349,2671,741,1240,1808,3441,1530,3914,2600,1437,1553,1980,1355,4370,750,4623,7980,1386,947,684,1922,2303,8086,888,900,4843,2580,5595,1123,6331,6560,2969,1198,14027,1337,433,1228,2570,1882,6416,1987,11560,4280,1274,976,1555,1285,1271,691,2124,12680,3108,8065,1371,4933,836,6224,5998,1188,7511,9271,1778,9629,3051,3931,1345,2712,3966,4165,8335,1216,11816,2327,1082,5179,1943,6761,709,2235,1442,3959,2169,2439,2210,1422,4057,795,15672,4153,2625,4736,3161,18424,14896,2359,3345,1366,6872,697,10297,1670,1919,745,6288,3349,1533,3621,2145,4113,10974,4006,2397,2520,1193,7297,2538,1264,8386,4844,8229,1845],\"yaxis\":\"y\",\"type\":\"scatter\"}],                        {\"template\":{\"data\":{\"histogram2dcontour\":[{\"type\":\"histogram2dcontour\",\"colorbar\":{\"outlinewidth\":0,\"ticks\":\"\"},\"colorscale\":[[0.0,\"#0d0887\"],[0.1111111111111111,\"#46039f\"],[0.2222222222222222,\"#7201a8\"],[0.3333333333333333,\"#9c179e\"],[0.4444444444444444,\"#bd3786\"],[0.5555555555555556,\"#d8576b\"],[0.6666666666666666,\"#ed7953\"],[0.7777777777777778,\"#fb9f3a\"],[0.8888888888888888,\"#fdca26\"],[1.0,\"#f0f921\"]]}],\"choropleth\":[{\"type\":\"choropleth\",\"colorbar\":{\"outlinewidth\":0,\"ticks\":\"\"}}],\"histogram2d\":[{\"type\":\"histogram2d\",\"colorbar\":{\"outlinewidth\":0,\"ticks\":\"\"},\"colorscale\":[[0.0,\"#0d0887\"],[0.1111111111111111,\"#46039f\"],[0.2222222222222222,\"#7201a8\"],[0.3333333333333333,\"#9c179e\"],[0.4444444444444444,\"#bd3786\"],[0.5555555555555556,\"#d8576b\"],[0.6666666666666666,\"#ed7953\"],[0.7777777777777778,\"#fb9f3a\"],[0.8888888888888888,\"#fdca26\"],[1.0,\"#f0f921\"]]}],\"heatmap\":[{\"type\":\"heatmap\",\"colorbar\":{\"outlinewidth\":0,\"ticks\":\"\"},\"colorscale\":[[0.0,\"#0d0887\"],[0.1111111111111111,\"#46039f\"],[0.2222222222222222,\"#7201a8\"],[0.3333333333333333,\"#9c179e\"],[0.4444444444444444,\"#bd3786\"],[0.5555555555555556,\"#d8576b\"],[0.6666666666666666,\"#ed7953\"],[0.7777777777777778,\"#fb9f3a\"],[0.8888888888888888,\"#fdca26\"],[1.0,\"#f0f921\"]]}],\"heatmapgl\":[{\"type\":\"heatmapgl\",\"colorbar\":{\"outlinewidth\":0,\"ticks\":\"\"},\"colorscale\":[[0.0,\"#0d0887\"],[0.1111111111111111,\"#46039f\"],[0.2222222222222222,\"#7201a8\"],[0.3333333333333333,\"#9c179e\"],[0.4444444444444444,\"#bd3786\"],[0.5555555555555556,\"#d8576b\"],[0.6666666666666666,\"#ed7953\"],[0.7777777777777778,\"#fb9f3a\"],[0.8888888888888888,\"#fdca26\"],[1.0,\"#f0f921\"]]}],\"contourcarpet\":[{\"type\":\"contourcarpet\",\"colorbar\":{\"outlinewidth\":0,\"ticks\":\"\"}}],\"contour\":[{\"type\":\"contour\",\"colorbar\":{\"outlinewidth\":0,\"ticks\":\"\"},\"colorscale\":[[0.0,\"#0d0887\"],[0.1111111111111111,\"#46039f\"],[0.2222222222222222,\"#7201a8\"],[0.3333333333333333,\"#9c179e\"],[0.4444444444444444,\"#bd3786\"],[0.5555555555555556,\"#d8576b\"],[0.6666666666666666,\"#ed7953\"],[0.7777777777777778,\"#fb9f3a\"],[0.8888888888888888,\"#fdca26\"],[1.0,\"#f0f921\"]]}],\"surface\":[{\"type\":\"surface\",\"colorbar\":{\"outlinewidth\":0,\"ticks\":\"\"},\"colorscale\":[[0.0,\"#0d0887\"],[0.1111111111111111,\"#46039f\"],[0.2222222222222222,\"#7201a8\"],[0.3333333333333333,\"#9c179e\"],[0.4444444444444444,\"#bd3786\"],[0.5555555555555556,\"#d8576b\"],[0.6666666666666666,\"#ed7953\"],[0.7777777777777778,\"#fb9f3a\"],[0.8888888888888888,\"#fdca26\"],[1.0,\"#f0f921\"]]}],\"mesh3d\":[{\"type\":\"mesh3d\",\"colorbar\":{\"outlinewidth\":0,\"ticks\":\"\"}}],\"scatter\":[{\"fillpattern\":{\"fillmode\":\"overlay\",\"size\":10,\"solidity\":0.2},\"type\":\"scatter\"}],\"parcoords\":[{\"type\":\"parcoords\",\"line\":{\"colorbar\":{\"outlinewidth\":0,\"ticks\":\"\"}}}],\"scatterpolargl\":[{\"type\":\"scatterpolargl\",\"marker\":{\"colorbar\":{\"outlinewidth\":0,\"ticks\":\"\"}}}],\"bar\":[{\"error_x\":{\"color\":\"#2a3f5f\"},\"error_y\":{\"color\":\"#2a3f5f\"},\"marker\":{\"line\":{\"color\":\"#E5ECF6\",\"width\":0.5},\"pattern\":{\"fillmode\":\"overlay\",\"size\":10,\"solidity\":0.2}},\"type\":\"bar\"}],\"scattergeo\":[{\"type\":\"scattergeo\",\"marker\":{\"colorbar\":{\"outlinewidth\":0,\"ticks\":\"\"}}}],\"scatterpolar\":[{\"type\":\"scatterpolar\",\"marker\":{\"colorbar\":{\"outlinewidth\":0,\"ticks\":\"\"}}}],\"histogram\":[{\"marker\":{\"pattern\":{\"fillmode\":\"overlay\",\"size\":10,\"solidity\":0.2}},\"type\":\"histogram\"}],\"scattergl\":[{\"type\":\"scattergl\",\"marker\":{\"colorbar\":{\"outlinewidth\":0,\"ticks\":\"\"}}}],\"scatter3d\":[{\"type\":\"scatter3d\",\"line\":{\"colorbar\":{\"outlinewidth\":0,\"ticks\":\"\"}},\"marker\":{\"colorbar\":{\"outlinewidth\":0,\"ticks\":\"\"}}}],\"scattermapbox\":[{\"type\":\"scattermapbox\",\"marker\":{\"colorbar\":{\"outlinewidth\":0,\"ticks\":\"\"}}}],\"scatterternary\":[{\"type\":\"scatterternary\",\"marker\":{\"colorbar\":{\"outlinewidth\":0,\"ticks\":\"\"}}}],\"scattercarpet\":[{\"type\":\"scattercarpet\",\"marker\":{\"colorbar\":{\"outlinewidth\":0,\"ticks\":\"\"}}}],\"carpet\":[{\"aaxis\":{\"endlinecolor\":\"#2a3f5f\",\"gridcolor\":\"white\",\"linecolor\":\"white\",\"minorgridcolor\":\"white\",\"startlinecolor\":\"#2a3f5f\"},\"baxis\":{\"endlinecolor\":\"#2a3f5f\",\"gridcolor\":\"white\",\"linecolor\":\"white\",\"minorgridcolor\":\"white\",\"startlinecolor\":\"#2a3f5f\"},\"type\":\"carpet\"}],\"table\":[{\"cells\":{\"fill\":{\"color\":\"#EBF0F8\"},\"line\":{\"color\":\"white\"}},\"header\":{\"fill\":{\"color\":\"#C8D4E3\"},\"line\":{\"color\":\"white\"}},\"type\":\"table\"}],\"barpolar\":[{\"marker\":{\"line\":{\"color\":\"#E5ECF6\",\"width\":0.5},\"pattern\":{\"fillmode\":\"overlay\",\"size\":10,\"solidity\":0.2}},\"type\":\"barpolar\"}],\"pie\":[{\"automargin\":true,\"type\":\"pie\"}]},\"layout\":{\"autotypenumbers\":\"strict\",\"colorway\":[\"#636efa\",\"#EF553B\",\"#00cc96\",\"#ab63fa\",\"#FFA15A\",\"#19d3f3\",\"#FF6692\",\"#B6E880\",\"#FF97FF\",\"#FECB52\"],\"font\":{\"color\":\"#2a3f5f\"},\"hovermode\":\"closest\",\"hoverlabel\":{\"align\":\"left\"},\"paper_bgcolor\":\"white\",\"plot_bgcolor\":\"#E5ECF6\",\"polar\":{\"bgcolor\":\"#E5ECF6\",\"angularaxis\":{\"gridcolor\":\"white\",\"linecolor\":\"white\",\"ticks\":\"\"},\"radialaxis\":{\"gridcolor\":\"white\",\"linecolor\":\"white\",\"ticks\":\"\"}},\"ternary\":{\"bgcolor\":\"#E5ECF6\",\"aaxis\":{\"gridcolor\":\"white\",\"linecolor\":\"white\",\"ticks\":\"\"},\"baxis\":{\"gridcolor\":\"white\",\"linecolor\":\"white\",\"ticks\":\"\"},\"caxis\":{\"gridcolor\":\"white\",\"linecolor\":\"white\",\"ticks\":\"\"}},\"coloraxis\":{\"colorbar\":{\"outlinewidth\":0,\"ticks\":\"\"}},\"colorscale\":{\"sequential\":[[0.0,\"#0d0887\"],[0.1111111111111111,\"#46039f\"],[0.2222222222222222,\"#7201a8\"],[0.3333333333333333,\"#9c179e\"],[0.4444444444444444,\"#bd3786\"],[0.5555555555555556,\"#d8576b\"],[0.6666666666666666,\"#ed7953\"],[0.7777777777777778,\"#fb9f3a\"],[0.8888888888888888,\"#fdca26\"],[1.0,\"#f0f921\"]],\"sequentialminus\":[[0.0,\"#0d0887\"],[0.1111111111111111,\"#46039f\"],[0.2222222222222222,\"#7201a8\"],[0.3333333333333333,\"#9c179e\"],[0.4444444444444444,\"#bd3786\"],[0.5555555555555556,\"#d8576b\"],[0.6666666666666666,\"#ed7953\"],[0.7777777777777778,\"#fb9f3a\"],[0.8888888888888888,\"#fdca26\"],[1.0,\"#f0f921\"]],\"diverging\":[[0,\"#8e0152\"],[0.1,\"#c51b7d\"],[0.2,\"#de77ae\"],[0.3,\"#f1b6da\"],[0.4,\"#fde0ef\"],[0.5,\"#f7f7f7\"],[0.6,\"#e6f5d0\"],[0.7,\"#b8e186\"],[0.8,\"#7fbc41\"],[0.9,\"#4d9221\"],[1,\"#276419\"]]},\"xaxis\":{\"gridcolor\":\"white\",\"linecolor\":\"white\",\"ticks\":\"\",\"title\":{\"standoff\":15},\"zerolinecolor\":\"white\",\"automargin\":true,\"zerolinewidth\":2},\"yaxis\":{\"gridcolor\":\"white\",\"linecolor\":\"white\",\"ticks\":\"\",\"title\":{\"standoff\":15},\"zerolinecolor\":\"white\",\"automargin\":true,\"zerolinewidth\":2},\"scene\":{\"xaxis\":{\"backgroundcolor\":\"#E5ECF6\",\"gridcolor\":\"white\",\"linecolor\":\"white\",\"showbackground\":true,\"ticks\":\"\",\"zerolinecolor\":\"white\",\"gridwidth\":2},\"yaxis\":{\"backgroundcolor\":\"#E5ECF6\",\"gridcolor\":\"white\",\"linecolor\":\"white\",\"showbackground\":true,\"ticks\":\"\",\"zerolinecolor\":\"white\",\"gridwidth\":2},\"zaxis\":{\"backgroundcolor\":\"#E5ECF6\",\"gridcolor\":\"white\",\"linecolor\":\"white\",\"showbackground\":true,\"ticks\":\"\",\"zerolinecolor\":\"white\",\"gridwidth\":2}},\"shapedefaults\":{\"line\":{\"color\":\"#2a3f5f\"}},\"annotationdefaults\":{\"arrowcolor\":\"#2a3f5f\",\"arrowhead\":0,\"arrowwidth\":1},\"geo\":{\"bgcolor\":\"white\",\"landcolor\":\"#E5ECF6\",\"subunitcolor\":\"white\",\"showland\":true,\"showlakes\":true,\"lakecolor\":\"white\"},\"title\":{\"x\":0.05},\"mapbox\":{\"style\":\"light\"}}},\"xaxis\":{\"anchor\":\"y\",\"domain\":[0.0,1.0],\"title\":{\"text\":\"Age\"}},\"yaxis\":{\"anchor\":\"x\",\"domain\":[0.0,1.0],\"title\":{\"text\":\"Amount\"}},\"legend\":{\"title\":{\"text\":\"Y\"},\"tracegroupgap\":0},\"margin\":{\"t\":60}},                        {\"responsive\": true}                    ).then(function(){\n",
              "                            \n",
              "var gd = document.getElementById('b20f63e8-4c7d-49d2-9542-7f5c1a135523');\n",
              "var x = new MutationObserver(function (mutations, observer) {{\n",
              "        var display = window.getComputedStyle(gd).display;\n",
              "        if (!display || display === 'none') {{\n",
              "            console.log([gd, 'removed!']);\n",
              "            Plotly.purge(gd);\n",
              "            observer.disconnect();\n",
              "        }}\n",
              "}});\n",
              "\n",
              "// Listen for the removal of the full notebook cells\n",
              "var notebookContainer = gd.closest('#notebook-container');\n",
              "if (notebookContainer) {{\n",
              "    x.observe(notebookContainer, {childList: true});\n",
              "}}\n",
              "\n",
              "// Listen for the clearing of the current output cell\n",
              "var outputEl = gd.closest('.output');\n",
              "if (outputEl) {{\n",
              "    x.observe(outputEl, {childList: true});\n",
              "}}\n",
              "\n",
              "                        })                };                            </script>        </div>\n",
              "</body>\n",
              "</html>"
            ]
          },
          "metadata": {}
        }
      ],
      "source": [
        "fig = px.scatter(dataset,  x = 'Age', y = 'Amount', color = 'Y')\n",
        "fig.show()"
      ]
    },
    {
      "cell_type": "markdown",
      "source": [
        "## Exercise 1\n",
        "\n",
        "Does \"yes\" mean that the loan should be approved or does \"yes\" mean that the customer defaulted on their loan?"
      ],
      "metadata": {
        "id": "1If4e70oWHwX"
      }
    },
    {
      "cell_type": "code",
      "source": [
        "### Write your code here\n",
        "\n"
      ],
      "metadata": {
        "id": "0iDUSkZ9W21t"
      },
      "execution_count": null,
      "outputs": []
    },
    {
      "cell_type": "markdown",
      "source": [
        "WRITE YOUR ANSWER HERE"
      ],
      "metadata": {
        "id": "cuateKxFehZa"
      }
    },
    {
      "cell_type": "markdown",
      "metadata": {
        "hideCode": false,
        "hidePrompt": false,
        "id": "eOxfOczeQC3A"
      },
      "source": [
        "## Training and test datasets\n",
        "\n",
        "Here we will split the entire dataset into 70% training and 30% test data. We will also convert \"yes\" and \"no\" to 1 and 0 respectively - we need it to train our models."
      ]
    },
    {
      "cell_type": "code",
      "execution_count": null,
      "metadata": {
        "hideCode": false,
        "hidePrompt": false,
        "colab": {
          "base_uri": "https://localhost:8080/"
        },
        "id": "2f8IveLPQC3A",
        "outputId": "7fa14c4c-2593-4c66-8b4e-518069228b1a"
      },
      "outputs": [
        {
          "output_type": "stream",
          "name": "stdout",
          "text": [
            "Entire dataset dimensions = (1000, 21)\n",
            "Train data dimensions = (700, 21)\n",
            "Test data dimensions = (300, 21)\n"
          ]
        }
      ],
      "source": [
        "from sklearn.preprocessing import LabelEncoder\n",
        "\n",
        "le = LabelEncoder()\n",
        "\n",
        "train_data, test_data = train_test_split(dataset, test_size=0.3, random_state = 8128)\n",
        "train_data['Y'] = le.fit_transform(train_data['Y'])\n",
        "test_data['Y'] = le.fit_transform(test_data['Y'])\n",
        "\n",
        "print(\"Entire dataset dimensions =\", dataset.shape)\n",
        "print(\"Train data dimensions =\", train_data.shape)\n",
        "print(\"Test data dimensions =\", test_data.shape)"
      ]
    },
    {
      "cell_type": "markdown",
      "metadata": {
        "hideCode": false,
        "hidePrompt": false,
        "id": "1c-C-xhVQC3A"
      },
      "source": [
        "### Exercise 2\n",
        "\n",
        "Do we have more observations with $Y=\\mbox{yes}$ or more ovservations with $Y=\\mbox{no}$?\n",
        "\n",
        "Imagine that instead of training a logistic regression, we will use a super-simple baseline model - always predict that $Y=\\mbox{yes}$ or that $Y=\\mbox{no}$ (whichever is more common in the training data). What will be the test accuracy of such a baseline model?"
      ]
    },
    {
      "cell_type": "code",
      "execution_count": null,
      "metadata": {
        "hideCode": false,
        "hidePrompt": false,
        "colab": {
          "base_uri": "https://localhost:8080/"
        },
        "id": "ZE4gSKBvQC3A",
        "outputId": "013da66e-36e4-4622-9a19-3adfb52f58cd"
      },
      "outputs": [
        {
          "output_type": "stream",
          "name": "stdout",
          "text": [
            "Fraction of observstions with Y = 'yes' in the training set is 226\n",
            "The baseline prediction is 474\n",
            "Test accuracy of baseline model = 0.0\n"
          ]
        },
        {
          "output_type": "stream",
          "name": "stderr",
          "text": [
            "<ipython-input-9-a2a15f5d33cb>:5: FutureWarning:\n",
            "\n",
            "Unlike other reduction functions (e.g. `skew`, `kurtosis`), the default behavior of `mode` typically preserves the axis it acts along. In SciPy 1.11.0, this behavior will change: the default value of `keepdims` will become False, the `axis` over which the statistic is taken will be eliminated, and the value None will no longer be accepted. Set `keepdims` to True or False to avoid this warning.\n",
            "\n"
          ]
        }
      ],
      "source": [
        "### Update the codes below\n",
        "\n",
        "fraction_yes = np.sum(train_data['Y'])   # This is incorrect, change it\n",
        "print(\"Fraction of observstions with Y = 'yes' in the training set is\", np.round(fraction_yes, 2))\n",
        "mode_val, mode_count = st.mode(train_data['Y'])\n",
        "baseline_prediction = mode_count[0] # This is incorrect, change it\n",
        "print(\"The baseline prediction is\", baseline_prediction)\n",
        "baseline_test_acc = np.mean(0. + (test_data['Y'] == baseline_prediction))\n",
        "print(\"Test accuracy of baseline model =\", np.round(baseline_test_acc, 2))"
      ]
    },
    {
      "cell_type": "markdown",
      "metadata": {
        "hideCode": false,
        "hidePrompt": false,
        "id": "QcoiFH0PQC3A"
      },
      "source": [
        "## Modelling"
      ]
    },
    {
      "cell_type": "markdown",
      "metadata": {
        "hideCode": false,
        "hidePrompt": false,
        "id": "cIK_64s3QC3A"
      },
      "source": [
        "Here we train two logistic models. The first one uses just three features as predictors and the second one uses all the available features."
      ]
    },
    {
      "cell_type": "code",
      "execution_count": null,
      "metadata": {
        "hideCode": false,
        "hidePrompt": false,
        "colab": {
          "base_uri": "https://localhost:8080/",
          "height": 1000
        },
        "id": "hyeVkHt9QC3A",
        "outputId": "648b55b4-078f-432e-b4ac-fcb52932ce75"
      },
      "outputs": [
        {
          "output_type": "stream",
          "name": "stdout",
          "text": [
            "Optimization terminated successfully.\n",
            "         Current function value: 0.587352\n",
            "         Iterations 5\n",
            "Optimization terminated successfully.\n",
            "         Current function value: 0.476325\n",
            "         Iterations 7\n"
          ]
        },
        {
          "output_type": "execute_result",
          "data": {
            "text/plain": [
              "<stargazer.stargazer.Stargazer at 0x7f5aa98f1b80>"
            ],
            "text/html": [
              "<table style=\"text-align:center\"><tr><td colspan=\"3\" style=\"border-bottom: 1px solid black\"></td></tr><tr><td style=\"text-align:left\"></td><td colspan=\"2\"><em>Dependent variable:Y</em></td></tr><tr><td style=\"text-align:left\"></td><tr><td style=\"text-align:left\"></td><td>(1)</td><td>(2)</td></tr><tr><td colspan=\"3\" style=\"border-bottom: 1px solid black\"></td></tr><tr><td style=\"text-align:left\">Age</td><td>-0.015<sup>*</sup></td><td>-0.011<sup></sup></td></tr><tr><td style=\"text-align:left\"></td><td>(0.008)</td><td>(0.010)</td></tr><tr><td style=\"text-align:left\">Amount</td><td>0.000<sup>***</sup></td><td>0.000<sup>***</sup></td></tr><tr><td style=\"text-align:left\"></td><td>(0.000)</td><td>(0.000)</td></tr><tr><td style=\"text-align:left\">Checking_account</td><td></td><td>0.503<sup>***</sup></td></tr><tr><td style=\"text-align:left\"></td><td></td><td>(0.106)</td></tr><tr><td style=\"text-align:left\">Credit_history</td><td>-0.406<sup>***</sup></td><td>-0.416<sup>***</sup></td></tr><tr><td style=\"text-align:left\"></td><td>(0.080)</td><td>(0.101)</td></tr><tr><td style=\"text-align:left\">Duration</td><td></td><td>0.031<sup>***</sup></td></tr><tr><td style=\"text-align:left\"></td><td></td><td>(0.010)</td></tr><tr><td style=\"text-align:left\">Employed_since</td><td></td><td>-0.238<sup>***</sup></td></tr><tr><td style=\"text-align:left\"></td><td></td><td>(0.089)</td></tr><tr><td style=\"text-align:left\">Foreign_worker[T.yes]</td><td></td><td>1.592<sup>**</sup></td></tr><tr><td style=\"text-align:left\"></td><td></td><td>(0.716)</td></tr><tr><td style=\"text-align:left\">Housing</td><td></td><td>0.432<sup>*</sup></td></tr><tr><td style=\"text-align:left\"></td><td></td><td>(0.224)</td></tr><tr><td style=\"text-align:left\">Installment_rate</td><td></td><td>0.463<sup>***</sup></td></tr><tr><td style=\"text-align:left\"></td><td></td><td>(0.106)</td></tr><tr><td style=\"text-align:left\">Intercept</td><td>0.318<sup></sup></td><td>-3.474<sup>***</sup></td></tr><tr><td style=\"text-align:left\"></td><td>(0.334)</td><td>(1.255)</td></tr><tr><td style=\"text-align:left\">Job[T.skilled employee]</td><td></td><td>-0.036<sup></sup></td></tr><tr><td style=\"text-align:left\"></td><td></td><td>(0.324)</td></tr><tr><td style=\"text-align:left\">Job[T.unemployed]</td><td></td><td>-0.578<sup></sup></td></tr><tr><td style=\"text-align:left\"></td><td></td><td>(0.703)</td></tr><tr><td style=\"text-align:left\">Job[T.unskilled]</td><td></td><td>-0.076<sup></sup></td></tr><tr><td style=\"text-align:left\"></td><td></td><td>(0.395)</td></tr><tr><td style=\"text-align:left\">Number_of_dependants</td><td></td><td>0.461<sup></sup></td></tr><tr><td style=\"text-align:left\"></td><td></td><td>(0.286)</td></tr><tr><td style=\"text-align:left\">Number_of_existing_credits</td><td></td><td>0.282<sup></sup></td></tr><tr><td style=\"text-align:left\"></td><td></td><td>(0.189)</td></tr><tr><td style=\"text-align:left\">Other_debtors[T.guarantor]</td><td></td><td>-1.940<sup>***</sup></td></tr><tr><td style=\"text-align:left\"></td><td></td><td>(0.731)</td></tr><tr><td style=\"text-align:left\">Other_debtors[T.none]</td><td></td><td>-0.875<sup>*</sup></td></tr><tr><td style=\"text-align:left\"></td><td></td><td>(0.489)</td></tr><tr><td style=\"text-align:left\">Other_installment_plans[T.none]</td><td></td><td>-0.849<sup>***</sup></td></tr><tr><td style=\"text-align:left\"></td><td></td><td>(0.271)</td></tr><tr><td style=\"text-align:left\">Other_installment_plans[T.stores]</td><td></td><td>-0.394<sup></sup></td></tr><tr><td style=\"text-align:left\"></td><td></td><td>(0.478)</td></tr><tr><td style=\"text-align:left\">Personal_status[T.male: divorced/separated]</td><td></td><td>0.426<sup></sup></td></tr><tr><td style=\"text-align:left\"></td><td></td><td>(0.469)</td></tr><tr><td style=\"text-align:left\">Personal_status[T.male: married/widowed]</td><td></td><td>-0.084<sup></sup></td></tr><tr><td style=\"text-align:left\"></td><td></td><td>(0.358)</td></tr><tr><td style=\"text-align:left\">Personal_status[T.male: single]</td><td></td><td>-0.760<sup>***</sup></td></tr><tr><td style=\"text-align:left\"></td><td></td><td>(0.238)</td></tr><tr><td style=\"text-align:left\">Present_residence_since</td><td></td><td>0.050<sup></sup></td></tr><tr><td style=\"text-align:left\"></td><td></td><td>(0.096)</td></tr><tr><td style=\"text-align:left\">Property[T.life insurance]</td><td></td><td>0.357<sup></sup></td></tr><tr><td style=\"text-align:left\"></td><td></td><td>(0.266)</td></tr><tr><td style=\"text-align:left\">Property[T.real estate]</td><td></td><td>-0.004<sup></sup></td></tr><tr><td style=\"text-align:left\"></td><td></td><td>(0.269)</td></tr><tr><td style=\"text-align:left\">Property[T.unknown]</td><td></td><td>0.865<sup>**</sup></td></tr><tr><td style=\"text-align:left\"></td><td></td><td>(0.363)</td></tr><tr><td style=\"text-align:left\">Purpose[T.car (new)]</td><td></td><td>1.129<sup>***</sup></td></tr><tr><td style=\"text-align:left\"></td><td></td><td>(0.384)</td></tr><tr><td style=\"text-align:left\">Purpose[T.car (used)]</td><td></td><td>-0.687<sup></sup></td></tr><tr><td style=\"text-align:left\"></td><td></td><td>(0.494)</td></tr><tr><td style=\"text-align:left\">Purpose[T.domestic appliances]</td><td></td><td>0.803<sup></sup></td></tr><tr><td style=\"text-align:left\"></td><td></td><td>(0.836)</td></tr><tr><td style=\"text-align:left\">Purpose[T.education]</td><td></td><td>1.021<sup>**</sup></td></tr><tr><td style=\"text-align:left\"></td><td></td><td>(0.512)</td></tr><tr><td style=\"text-align:left\">Purpose[T.furniture/equipment]</td><td></td><td>0.359<sup></sup></td></tr><tr><td style=\"text-align:left\"></td><td></td><td>(0.397)</td></tr><tr><td style=\"text-align:left\">Purpose[T.others]</td><td></td><td>-1.100<sup></sup></td></tr><tr><td style=\"text-align:left\"></td><td></td><td>(0.949)</td></tr><tr><td style=\"text-align:left\">Purpose[T.radio/television]</td><td></td><td>-0.093<sup></sup></td></tr><tr><td style=\"text-align:left\"></td><td></td><td>(0.384)</td></tr><tr><td style=\"text-align:left\">Purpose[T.repairs]</td><td></td><td>0.466<sup></sup></td></tr><tr><td style=\"text-align:left\"></td><td></td><td>(0.678)</td></tr><tr><td style=\"text-align:left\">Purpose[T.retraining]</td><td></td><td>-0.854<sup></sup></td></tr><tr><td style=\"text-align:left\"></td><td></td><td>(1.170)</td></tr><tr><td style=\"text-align:left\">Savings_account</td><td></td><td>0.003<sup></sup></td></tr><tr><td style=\"text-align:left\"></td><td></td><td>(0.113)</td></tr><tr><td style=\"text-align:left\">Telephone[T.yes]</td><td></td><td>-0.344<sup></sup></td></tr><tr><td style=\"text-align:left\"></td><td></td><td>(0.230)</td></tr><td colspan=\"3\" style=\"border-bottom: 1px solid black\"></td></tr><tr><td style=\"text-align: left\">Observations</td><td>700</td><td>700</td></tr><tr><td style=\"text-align: left\">R<sup>2</sup></td><td></td><td></td></tr><tr><td style=\"text-align: left\">Adjusted R<sup>2</sup></td><td></td><td></td></tr><tr><td style=\"text-align: left\">Residual Std. Error</td><td>1.000 (df=696)</td><td>1.000 (df=663)</td></tr><tr><td style=\"text-align: left\">F Statistic</td><td><sup></sup> (df=3; 696)</td><td><sup></sup> (df=36; 663)</td></tr><tr><td colspan=\"3\" style=\"border-bottom: 1px solid black\"></td></tr><tr><td style=\"text-align: left\">Note:</td>\n",
              " <td colspan=\"2\" style=\"text-align: right\">\n",
              "  <sup>*</sup>p&lt;0.1;\n",
              "  <sup>**</sup>p&lt;0.05;\n",
              "  <sup>***</sup>p&lt;0.01\n",
              " </td></tr></table>"
            ]
          },
          "metadata": {},
          "execution_count": 10
        }
      ],
      "source": [
        "mod1 = smf.logit(formula = 'Y ~ Age + Amount + Credit_history', data = train_data).fit()\n",
        "\n",
        "formula = 'Y ~ ' + ' + '.join(train_data.columns.drop('Y'))\n",
        "mod2 = smf.logit(formula, data = train_data).fit()\n",
        "\n",
        "stargazer = Stargazer([mod1, mod2])\n",
        "# We will not report coefficients of the second model since there are too many of them\n",
        "stargazer"
      ]
    },
    {
      "cell_type": "markdown",
      "metadata": {
        "hideCode": false,
        "hidePrompt": false,
        "id": "mGlo0edDQC3B"
      },
      "source": [
        "### Model evaluation \n",
        "\n",
        "To evaluate our model, we need some performance metric. Such a performance metric can either show how good a model is (accuracy) or how bad a model is (error or loss function). For classification models, we usually use metrics related to accuracy (accuracy, balanced accuracy, precision, recall, F1-score etc). Here we will just look at the overall accuracy, i.e.,\n",
        "$$\n",
        "\\frac{\\mbox{Number of correctly predicted observations}}{\\mbox{Total number of observations}}\n",
        "$$\n",
        "\n",
        "Note that the accuracy is not a differentiable function and hence its impossible to use it to train logistic regression by gradient descent. To train logistic regression, we use the binary cross-entropy loss\n",
        "$$\n",
        "L(\\beta)=-\\sum_{i=1}^{N}\\left(y^i\\log p(x^i)+ (1-y^i)\\log(1-p(x^i))\\right)\n",
        "$$\n",
        "It means that, by definition, model parameters are found as to minimize it, i.e.,\n",
        "$$\n",
        "(\\beta_0,\\beta_1,\\dots,\\beta_p)=\\arg\\min L\n",
        "$$\n",
        "However, the binary cross-entropy loss is hard to make sense of and hence we usually don't want to use it to evaluate the final model."
      ]
    },
    {
      "cell_type": "markdown",
      "metadata": {
        "hideCode": false,
        "hidePrompt": false,
        "id": "BMChF46lQC3B"
      },
      "source": [
        "First, we will construct predictions of model 1."
      ]
    },
    {
      "cell_type": "code",
      "execution_count": null,
      "metadata": {
        "hideCode": false,
        "hidePrompt": false,
        "colab": {
          "base_uri": "https://localhost:8080/"
        },
        "id": "yX0TBHn8QC3B",
        "outputId": "88b97933-e14c-47cf-946d-e7122c9cbdb5"
      },
      "outputs": [
        {
          "output_type": "execute_result",
          "data": {
            "text/plain": [
              "280    0.233627\n",
              "810    0.318256\n",
              "447    0.339059\n",
              "16     0.145291\n",
              "143    0.380693\n",
              "         ...   \n",
              "853    0.407808\n",
              "871    0.139987\n",
              "859    0.402956\n",
              "226    0.648210\n",
              "196    0.176861\n",
              "Length: 300, dtype: float64"
            ]
          },
          "metadata": {},
          "execution_count": 11
        }
      ],
      "source": [
        "mod1.predict(test_data)"
      ]
    },
    {
      "cell_type": "markdown",
      "metadata": {
        "hideCode": false,
        "hidePrompt": false,
        "id": "AXZbs77IQC3B"
      },
      "source": [
        "Note that logistic regression reports probabilities rather than labels. This is actually a good thing because not only it tells us which label it predicts, it also report how confident it is in its predictions. We will just use the standard convention that if the probability is above 0.5, then the predicted label is 1, otherwise it is 0. Here are some predicted labels."
      ]
    },
    {
      "cell_type": "code",
      "execution_count": null,
      "metadata": {
        "hideCode": false,
        "hidePrompt": false,
        "colab": {
          "base_uri": "https://localhost:8080/"
        },
        "id": "aZcIOnC_QC3B",
        "outputId": "6395cf9d-cecf-46de-ec6e-e4dd45477bf2"
      },
      "outputs": [
        {
          "output_type": "execute_result",
          "data": {
            "text/plain": [
              "280    0.0\n",
              "810    0.0\n",
              "447    0.0\n",
              "16     0.0\n",
              "143    0.0\n",
              "      ... \n",
              "853    0.0\n",
              "871    0.0\n",
              "859    0.0\n",
              "226    1.0\n",
              "196    0.0\n",
              "Length: 300, dtype: float64"
            ]
          },
          "metadata": {},
          "execution_count": 12
        }
      ],
      "source": [
        "0. + (mod1.predict(test_data) > 0.5)"
      ]
    },
    {
      "cell_type": "markdown",
      "metadata": {
        "hideCode": false,
        "hidePrompt": false,
        "id": "iTDdDZVXQC3B"
      },
      "source": [
        "Now we are ready to construct predictions and report training and test accuracies of the two models"
      ]
    },
    {
      "cell_type": "code",
      "execution_count": null,
      "metadata": {
        "colab": {
          "base_uri": "https://localhost:8080/"
        },
        "id": "p-Ylg_oDQC3B",
        "outputId": "d0896cb8-2cca-4c34-82a2-00976044588e"
      },
      "outputs": [
        {
          "output_type": "stream",
          "name": "stdout",
          "text": [
            "Training accuracy of model 1 = 0.69\n",
            "Test accuracy of model 1 = 0.75\n",
            "Training accuracy of model 2 = 0.77\n",
            "Test accuracy of model 2 = 0.69\n"
          ]
        }
      ],
      "source": [
        "pred1_train = 0. + (mod1.predict(train_data) > 0.5)\n",
        "pred1_test = 0. + (mod1.predict(test_data) > 0.5)\n",
        "\n",
        "# Note that since we trained the 500-regressor model in a different manner (without the formula API),\n",
        "# we need to use the predict method in a different way too:\n",
        "pred2_train = 0. + (mod2.predict(train_data) > 0.5)\n",
        "pred2_test = 0. + (mod2.predict(test_data) > 0.5)\n",
        "\n",
        "print(\"Training accuracy of model 1 =\", np.round(metrics.accuracy_score(train_data[\"Y\"], pred1_train), 2))\n",
        "print(\"Test accuracy of model 1 =\", np.round(metrics.accuracy_score(test_data[\"Y\"], pred1_test), 2))\n",
        "print(\"Training accuracy of model 2 =\", np.round(metrics.accuracy_score(train_data[\"Y\"], pred2_train), 2))\n",
        "print(\"Test accuracy of model 2 =\", np.round(metrics.accuracy_score(test_data[\"Y\"], pred2_test), 2))"
      ]
    },
    {
      "cell_type": "markdown",
      "metadata": {
        "id": "SGZsC1oGQC3B"
      },
      "source": [
        "### Exercise 3\n",
        "\n",
        "Write a Python function with three inputs - a logistic regression model, a dataset, and the name of the column containing the response variable. The output of such a function should be the overall accuracy of the regression model. You will need to modify the following code from Notebook 1 to do that:"
      ]
    },
    {
      "cell_type": "code",
      "execution_count": null,
      "metadata": {
        "colab": {
          "base_uri": "https://localhost:8080/"
        },
        "id": "DhMkYcKFQC3B",
        "outputId": "97a76be9-0882-4e60-e2bf-8e84aa06facd"
      },
      "outputs": [
        {
          "output_type": "stream",
          "name": "stdout",
          "text": [
            "Test accuracy of model 1 = 0.75\n",
            "Test accuracy of model 2 = 0.75\n"
          ]
        }
      ],
      "source": [
        "# Modify this code\n",
        "\n",
        "def model_acc(model, data = test_data, y = 'Y'):\n",
        "    pred = 0. * (model.predict(data) > 0.5) # change this line to a correct one\n",
        "    return metrics.accuracy_score(data[y], pred)\n",
        "\n",
        "print(\"Test accuracy of model 1 =\", np.round(model_acc(mod1), 2))\n",
        "print(\"Test accuracy of model 2 =\", np.round(model_acc(mod2), 2))"
      ]
    },
    {
      "cell_type": "markdown",
      "metadata": {
        "id": "oyNSCT-XQC3B"
      },
      "source": [
        "## Exercise 4\n",
        "\n",
        "Look at the baseline model again. Is the logistic regression better than the baseline model? "
      ]
    },
    {
      "cell_type": "code",
      "execution_count": null,
      "metadata": {
        "id": "SDN4xMyGQC3B"
      },
      "outputs": [],
      "source": [
        "### WRITE YOUR CODE HERE"
      ]
    },
    {
      "cell_type": "markdown",
      "source": [
        "## Decision Tree\n",
        "\n",
        "Here is how we train and plot an individual decision **tree**"
      ],
      "metadata": {
        "id": "ulEcjz11C3fB"
      }
    },
    {
      "cell_type": "code",
      "source": [
        "from sklearn import tree\n",
        "from sklearn.tree import DecisionTreeClassifier, plot_tree\n",
        "from patsy import dmatrices\n",
        "import graphviz\n",
        "\n",
        "# Prepare the data using the formula API and dmatrices function\n",
        "formula = 'Y ~ ' + ' + '.join(train_data.columns.drop('Y'))\n",
        "Y_train, X_train = dmatrices(formula, data=train_data, return_type='dataframe')\n",
        "\n",
        "# train the decision tree model\n",
        "mod_tree = DecisionTreeClassifier(min_samples_split=150) # you can change the number 150 to a smaller number - then the tree will become bigger\n",
        "mod_tree.fit(X_train, Y_train)\n",
        "\n",
        "# plot the decision tree\n",
        "dot_data = tree.export_graphviz(mod_tree, out_file=None, \n",
        "                                feature_names=X_train.columns, \n",
        "                                class_names=[\"no\", \"yes\"],\n",
        "                                filled=True)\n",
        "\n",
        "\n",
        "graph = graphviz.Source(dot_data, format=\"png\") \n",
        "graph"
      ],
      "metadata": {
        "colab": {
          "base_uri": "https://localhost:8080/",
          "height": 1000
        },
        "id": "dM3cgoWvC7dJ",
        "outputId": "e3e3ab13-17f9-4c7e-ff3f-509b4a9a9107"
      },
      "execution_count": null,
      "outputs": [
        {
          "output_type": "execute_result",
          "data": {
            "image/svg+xml": "<?xml version=\"1.0\" encoding=\"UTF-8\" standalone=\"no\"?>\n<!DOCTYPE svg PUBLIC \"-//W3C//DTD SVG 1.1//EN\"\n \"http://www.w3.org/Graphics/SVG/1.1/DTD/svg11.dtd\">\n<!-- Generated by graphviz version 2.43.0 (0)\n -->\n<!-- Title: Tree Pages: 1 -->\n<svg width=\"627pt\" height=\"909pt\"\n viewBox=\"0.00 0.00 627.00 909.00\" xmlns=\"http://www.w3.org/2000/svg\" xmlns:xlink=\"http://www.w3.org/1999/xlink\">\n<g id=\"graph0\" class=\"graph\" transform=\"scale(1 1) rotate(0) translate(4 905)\">\n<title>Tree</title>\n<polygon fill=\"white\" stroke=\"transparent\" points=\"-4,4 -4,-905 623,-905 623,4 -4,4\"/>\n<!-- 0 -->\n<g id=\"node1\" class=\"node\">\n<title>0</title>\n<polygon fill=\"#f1bd97\" stroke=\"black\" points=\"357,-901 187,-901 187,-818 357,-818 357,-901\"/>\n<text text-anchor=\"middle\" x=\"272\" y=\"-885.8\" font-family=\"Helvetica,sans-Serif\" font-size=\"14.00\">Checking_account &lt;= 0.5</text>\n<text text-anchor=\"middle\" x=\"272\" y=\"-870.8\" font-family=\"Helvetica,sans-Serif\" font-size=\"14.00\">gini = 0.437</text>\n<text text-anchor=\"middle\" x=\"272\" y=\"-855.8\" font-family=\"Helvetica,sans-Serif\" font-size=\"14.00\">samples = 700</text>\n<text text-anchor=\"middle\" x=\"272\" y=\"-840.8\" font-family=\"Helvetica,sans-Serif\" font-size=\"14.00\">value = [474, 226]</text>\n<text text-anchor=\"middle\" x=\"272\" y=\"-825.8\" font-family=\"Helvetica,sans-Serif\" font-size=\"14.00\">class = no</text>\n</g>\n<!-- 1 -->\n<g id=\"node2\" class=\"node\">\n<title>1</title>\n<polygon fill=\"#e99355\" stroke=\"black\" points=\"295,-782 41,-782 41,-699 295,-699 295,-782\"/>\n<text text-anchor=\"middle\" x=\"168\" y=\"-766.8\" font-family=\"Helvetica,sans-Serif\" font-size=\"14.00\">Other_installment_plans[T.none] &lt;= 0.5</text>\n<text text-anchor=\"middle\" x=\"168\" y=\"-751.8\" font-family=\"Helvetica,sans-Serif\" font-size=\"14.00\">gini = 0.215</text>\n<text text-anchor=\"middle\" x=\"168\" y=\"-736.8\" font-family=\"Helvetica,sans-Serif\" font-size=\"14.00\">samples = 277</text>\n<text text-anchor=\"middle\" x=\"168\" y=\"-721.8\" font-family=\"Helvetica,sans-Serif\" font-size=\"14.00\">value = [243, 34]</text>\n<text text-anchor=\"middle\" x=\"168\" y=\"-706.8\" font-family=\"Helvetica,sans-Serif\" font-size=\"14.00\">class = no</text>\n</g>\n<!-- 0&#45;&gt;1 -->\n<g id=\"edge1\" class=\"edge\">\n<title>0&#45;&gt;1</title>\n<path fill=\"none\" stroke=\"black\" d=\"M235.92,-817.91C227.85,-808.83 219.22,-799.12 210.91,-789.77\"/>\n<polygon fill=\"black\" stroke=\"black\" points=\"213.28,-787.17 204.02,-782.02 208.05,-791.82 213.28,-787.17\"/>\n<text text-anchor=\"middle\" x=\"202.55\" y=\"-803.28\" font-family=\"Helvetica,sans-Serif\" font-size=\"14.00\">True</text>\n</g>\n<!-- 6 -->\n<g id=\"node7\" class=\"node\">\n<title>6</title>\n<polygon fill=\"#fbeade\" stroke=\"black\" points=\"438.5,-782 313.5,-782 313.5,-699 438.5,-699 438.5,-782\"/>\n<text text-anchor=\"middle\" x=\"376\" y=\"-766.8\" font-family=\"Helvetica,sans-Serif\" font-size=\"14.00\">Duration &lt;= 11.5</text>\n<text text-anchor=\"middle\" x=\"376\" y=\"-751.8\" font-family=\"Helvetica,sans-Serif\" font-size=\"14.00\">gini = 0.496</text>\n<text text-anchor=\"middle\" x=\"376\" y=\"-736.8\" font-family=\"Helvetica,sans-Serif\" font-size=\"14.00\">samples = 423</text>\n<text text-anchor=\"middle\" x=\"376\" y=\"-721.8\" font-family=\"Helvetica,sans-Serif\" font-size=\"14.00\">value = [231, 192]</text>\n<text text-anchor=\"middle\" x=\"376\" y=\"-706.8\" font-family=\"Helvetica,sans-Serif\" font-size=\"14.00\">class = no</text>\n</g>\n<!-- 0&#45;&gt;6 -->\n<g id=\"edge6\" class=\"edge\">\n<title>0&#45;&gt;6</title>\n<path fill=\"none\" stroke=\"black\" d=\"M308.08,-817.91C316.15,-808.83 324.78,-799.12 333.09,-789.77\"/>\n<polygon fill=\"black\" stroke=\"black\" points=\"335.95,-791.82 339.98,-782.02 330.72,-787.17 335.95,-791.82\"/>\n<text text-anchor=\"middle\" x=\"341.45\" y=\"-803.28\" font-family=\"Helvetica,sans-Serif\" font-size=\"14.00\">False</text>\n</g>\n<!-- 2 -->\n<g id=\"node3\" class=\"node\">\n<title>2</title>\n<polygon fill=\"#f1ba93\" stroke=\"black\" points=\"110,-655.5 0,-655.5 0,-587.5 110,-587.5 110,-655.5\"/>\n<text text-anchor=\"middle\" x=\"55\" y=\"-640.3\" font-family=\"Helvetica,sans-Serif\" font-size=\"14.00\">gini = 0.43</text>\n<text text-anchor=\"middle\" x=\"55\" y=\"-625.3\" font-family=\"Helvetica,sans-Serif\" font-size=\"14.00\">samples = 48</text>\n<text text-anchor=\"middle\" x=\"55\" y=\"-610.3\" font-family=\"Helvetica,sans-Serif\" font-size=\"14.00\">value = [33, 15]</text>\n<text text-anchor=\"middle\" x=\"55\" y=\"-595.3\" font-family=\"Helvetica,sans-Serif\" font-size=\"14.00\">class = no</text>\n</g>\n<!-- 1&#45;&gt;2 -->\n<g id=\"edge2\" class=\"edge\">\n<title>1&#45;&gt;2</title>\n<path fill=\"none\" stroke=\"black\" d=\"M128.8,-698.91C117.61,-687.32 105.41,-674.7 94.22,-663.11\"/>\n<polygon fill=\"black\" stroke=\"black\" points=\"96.5,-660.43 87.03,-655.67 91.46,-665.29 96.5,-660.43\"/>\n</g>\n<!-- 3 -->\n<g id=\"node4\" class=\"node\">\n<title>3</title>\n<polygon fill=\"#e78c4b\" stroke=\"black\" points=\"245.5,-663 128.5,-663 128.5,-580 245.5,-580 245.5,-663\"/>\n<text text-anchor=\"middle\" x=\"187\" y=\"-647.8\" font-family=\"Helvetica,sans-Serif\" font-size=\"14.00\">Age &lt;= 32.5</text>\n<text text-anchor=\"middle\" x=\"187\" y=\"-632.8\" font-family=\"Helvetica,sans-Serif\" font-size=\"14.00\">gini = 0.152</text>\n<text text-anchor=\"middle\" x=\"187\" y=\"-617.8\" font-family=\"Helvetica,sans-Serif\" font-size=\"14.00\">samples = 229</text>\n<text text-anchor=\"middle\" x=\"187\" y=\"-602.8\" font-family=\"Helvetica,sans-Serif\" font-size=\"14.00\">value = [210, 19]</text>\n<text text-anchor=\"middle\" x=\"187\" y=\"-587.8\" font-family=\"Helvetica,sans-Serif\" font-size=\"14.00\">class = no</text>\n</g>\n<!-- 1&#45;&gt;3 -->\n<g id=\"edge3\" class=\"edge\">\n<title>1&#45;&gt;3</title>\n<path fill=\"none\" stroke=\"black\" d=\"M174.59,-698.91C175.95,-690.56 177.39,-681.67 178.8,-673.02\"/>\n<polygon fill=\"black\" stroke=\"black\" points=\"182.27,-673.45 180.42,-663.02 175.36,-672.33 182.27,-673.45\"/>\n</g>\n<!-- 4 -->\n<g id=\"node5\" class=\"node\">\n<title>4</title>\n<polygon fill=\"#ea9a60\" stroke=\"black\" points=\"200,-536.5 90,-536.5 90,-468.5 200,-468.5 200,-536.5\"/>\n<text text-anchor=\"middle\" x=\"145\" y=\"-521.3\" font-family=\"Helvetica,sans-Serif\" font-size=\"14.00\">gini = 0.273</text>\n<text text-anchor=\"middle\" x=\"145\" y=\"-506.3\" font-family=\"Helvetica,sans-Serif\" font-size=\"14.00\">samples = 92</text>\n<text text-anchor=\"middle\" x=\"145\" y=\"-491.3\" font-family=\"Helvetica,sans-Serif\" font-size=\"14.00\">value = [77, 15]</text>\n<text text-anchor=\"middle\" x=\"145\" y=\"-476.3\" font-family=\"Helvetica,sans-Serif\" font-size=\"14.00\">class = no</text>\n</g>\n<!-- 3&#45;&gt;4 -->\n<g id=\"edge4\" class=\"edge\">\n<title>3&#45;&gt;4</title>\n<path fill=\"none\" stroke=\"black\" d=\"M172.43,-579.91C168.51,-568.98 164.25,-557.14 160.29,-546.11\"/>\n<polygon fill=\"black\" stroke=\"black\" points=\"163.58,-544.9 156.91,-536.67 156.99,-547.26 163.58,-544.9\"/>\n</g>\n<!-- 5 -->\n<g id=\"node6\" class=\"node\">\n<title>5</title>\n<polygon fill=\"#e6853f\" stroke=\"black\" points=\"328,-536.5 218,-536.5 218,-468.5 328,-468.5 328,-536.5\"/>\n<text text-anchor=\"middle\" x=\"273\" y=\"-521.3\" font-family=\"Helvetica,sans-Serif\" font-size=\"14.00\">gini = 0.057</text>\n<text text-anchor=\"middle\" x=\"273\" y=\"-506.3\" font-family=\"Helvetica,sans-Serif\" font-size=\"14.00\">samples = 137</text>\n<text text-anchor=\"middle\" x=\"273\" y=\"-491.3\" font-family=\"Helvetica,sans-Serif\" font-size=\"14.00\">value = [133, 4]</text>\n<text text-anchor=\"middle\" x=\"273\" y=\"-476.3\" font-family=\"Helvetica,sans-Serif\" font-size=\"14.00\">class = no</text>\n</g>\n<!-- 3&#45;&gt;5 -->\n<g id=\"edge5\" class=\"edge\">\n<title>3&#45;&gt;5</title>\n<path fill=\"none\" stroke=\"black\" d=\"M216.84,-579.91C225.19,-568.54 234.28,-556.18 242.66,-544.77\"/>\n<polygon fill=\"black\" stroke=\"black\" points=\"245.52,-546.8 248.62,-536.67 239.88,-542.65 245.52,-546.8\"/>\n</g>\n<!-- 7 -->\n<g id=\"node8\" class=\"node\">\n<title>7</title>\n<polygon fill=\"#ea9b61\" stroke=\"black\" points=\"412,-655.5 302,-655.5 302,-587.5 412,-587.5 412,-655.5\"/>\n<text text-anchor=\"middle\" x=\"357\" y=\"-640.3\" font-family=\"Helvetica,sans-Serif\" font-size=\"14.00\">gini = 0.281</text>\n<text text-anchor=\"middle\" x=\"357\" y=\"-625.3\" font-family=\"Helvetica,sans-Serif\" font-size=\"14.00\">samples = 65</text>\n<text text-anchor=\"middle\" x=\"357\" y=\"-610.3\" font-family=\"Helvetica,sans-Serif\" font-size=\"14.00\">value = [54, 11]</text>\n<text text-anchor=\"middle\" x=\"357\" y=\"-595.3\" font-family=\"Helvetica,sans-Serif\" font-size=\"14.00\">class = no</text>\n</g>\n<!-- 6&#45;&gt;7 -->\n<g id=\"edge7\" class=\"edge\">\n<title>6&#45;&gt;7</title>\n<path fill=\"none\" stroke=\"black\" d=\"M369.41,-698.91C367.67,-688.2 365.79,-676.62 364.03,-665.78\"/>\n<polygon fill=\"black\" stroke=\"black\" points=\"367.44,-664.98 362.39,-655.67 360.53,-666.1 367.44,-664.98\"/>\n</g>\n<!-- 8 -->\n<g id=\"node9\" class=\"node\">\n<title>8</title>\n<polygon fill=\"#fbfdfe\" stroke=\"black\" points=\"612,-663 430,-663 430,-580 612,-580 612,-663\"/>\n<text text-anchor=\"middle\" x=\"521\" y=\"-647.8\" font-family=\"Helvetica,sans-Serif\" font-size=\"14.00\">Property[T.unknown] &lt;= 0.5</text>\n<text text-anchor=\"middle\" x=\"521\" y=\"-632.8\" font-family=\"Helvetica,sans-Serif\" font-size=\"14.00\">gini = 0.5</text>\n<text text-anchor=\"middle\" x=\"521\" y=\"-617.8\" font-family=\"Helvetica,sans-Serif\" font-size=\"14.00\">samples = 358</text>\n<text text-anchor=\"middle\" x=\"521\" y=\"-602.8\" font-family=\"Helvetica,sans-Serif\" font-size=\"14.00\">value = [177, 181]</text>\n<text text-anchor=\"middle\" x=\"521\" y=\"-587.8\" font-family=\"Helvetica,sans-Serif\" font-size=\"14.00\">class = yes</text>\n</g>\n<!-- 6&#45;&gt;8 -->\n<g id=\"edge8\" class=\"edge\">\n<title>6&#45;&gt;8</title>\n<path fill=\"none\" stroke=\"black\" d=\"M426.31,-698.91C438.12,-689.38 450.79,-679.15 462.91,-669.37\"/>\n<polygon fill=\"black\" stroke=\"black\" points=\"465.2,-672.02 470.78,-663.02 460.8,-666.58 465.2,-672.02\"/>\n</g>\n<!-- 9 -->\n<g id=\"node10\" class=\"node\">\n<title>9</title>\n<polygon fill=\"#fceee5\" stroke=\"black\" points=\"490.5,-544 361.5,-544 361.5,-461 490.5,-461 490.5,-544\"/>\n<text text-anchor=\"middle\" x=\"426\" y=\"-528.8\" font-family=\"Helvetica,sans-Serif\" font-size=\"14.00\">Amount &lt;= 8372.0</text>\n<text text-anchor=\"middle\" x=\"426\" y=\"-513.8\" font-family=\"Helvetica,sans-Serif\" font-size=\"14.00\">gini = 0.497</text>\n<text text-anchor=\"middle\" x=\"426\" y=\"-498.8\" font-family=\"Helvetica,sans-Serif\" font-size=\"14.00\">samples = 293</text>\n<text text-anchor=\"middle\" x=\"426\" y=\"-483.8\" font-family=\"Helvetica,sans-Serif\" font-size=\"14.00\">value = [157, 136]</text>\n<text text-anchor=\"middle\" x=\"426\" y=\"-468.8\" font-family=\"Helvetica,sans-Serif\" font-size=\"14.00\">class = no</text>\n</g>\n<!-- 8&#45;&gt;9 -->\n<g id=\"edge9\" class=\"edge\">\n<title>8&#45;&gt;9</title>\n<path fill=\"none\" stroke=\"black\" d=\"M488.04,-579.91C480.75,-570.92 472.94,-561.32 465.42,-552.05\"/>\n<polygon fill=\"black\" stroke=\"black\" points=\"467.92,-549.58 458.9,-544.02 462.49,-553.99 467.92,-549.58\"/>\n</g>\n<!-- 18 -->\n<g id=\"node19\" class=\"node\">\n<title>18</title>\n<polygon fill=\"#91c9f1\" stroke=\"black\" points=\"619,-536.5 509,-536.5 509,-468.5 619,-468.5 619,-536.5\"/>\n<text text-anchor=\"middle\" x=\"564\" y=\"-521.3\" font-family=\"Helvetica,sans-Serif\" font-size=\"14.00\">gini = 0.426</text>\n<text text-anchor=\"middle\" x=\"564\" y=\"-506.3\" font-family=\"Helvetica,sans-Serif\" font-size=\"14.00\">samples = 65</text>\n<text text-anchor=\"middle\" x=\"564\" y=\"-491.3\" font-family=\"Helvetica,sans-Serif\" font-size=\"14.00\">value = [20, 45]</text>\n<text text-anchor=\"middle\" x=\"564\" y=\"-476.3\" font-family=\"Helvetica,sans-Serif\" font-size=\"14.00\">class = yes</text>\n</g>\n<!-- 8&#45;&gt;18 -->\n<g id=\"edge18\" class=\"edge\">\n<title>8&#45;&gt;18</title>\n<path fill=\"none\" stroke=\"black\" d=\"M535.92,-579.91C539.93,-568.98 544.29,-557.14 548.34,-546.11\"/>\n<polygon fill=\"black\" stroke=\"black\" points=\"551.65,-547.26 551.81,-536.67 545.08,-544.85 551.65,-547.26\"/>\n</g>\n<!-- 10 -->\n<g id=\"node11\" class=\"node\">\n<title>10</title>\n<polygon fill=\"#fae6d8\" stroke=\"black\" points=\"431.5,-425 272.5,-425 272.5,-342 431.5,-342 431.5,-425\"/>\n<text text-anchor=\"middle\" x=\"352\" y=\"-409.8\" font-family=\"Helvetica,sans-Serif\" font-size=\"14.00\">Employed_since &lt;= 1.5</text>\n<text text-anchor=\"middle\" x=\"352\" y=\"-394.8\" font-family=\"Helvetica,sans-Serif\" font-size=\"14.00\">gini = 0.494</text>\n<text text-anchor=\"middle\" x=\"352\" y=\"-379.8\" font-family=\"Helvetica,sans-Serif\" font-size=\"14.00\">samples = 281</text>\n<text text-anchor=\"middle\" x=\"352\" y=\"-364.8\" font-family=\"Helvetica,sans-Serif\" font-size=\"14.00\">value = [156, 125]</text>\n<text text-anchor=\"middle\" x=\"352\" y=\"-349.8\" font-family=\"Helvetica,sans-Serif\" font-size=\"14.00\">class = no</text>\n</g>\n<!-- 9&#45;&gt;10 -->\n<g id=\"edge10\" class=\"edge\">\n<title>9&#45;&gt;10</title>\n<path fill=\"none\" stroke=\"black\" d=\"M400.33,-460.91C394.76,-452.1 388.81,-442.7 383.06,-433.61\"/>\n<polygon fill=\"black\" stroke=\"black\" points=\"385.93,-431.6 377.63,-425.02 380.02,-435.34 385.93,-431.6\"/>\n</g>\n<!-- 17 -->\n<g id=\"node18\" class=\"node\">\n<title>17</title>\n<polygon fill=\"#4ba6e7\" stroke=\"black\" points=\"551,-417.5 449,-417.5 449,-349.5 551,-349.5 551,-417.5\"/>\n<text text-anchor=\"middle\" x=\"500\" y=\"-402.3\" font-family=\"Helvetica,sans-Serif\" font-size=\"14.00\">gini = 0.153</text>\n<text text-anchor=\"middle\" x=\"500\" y=\"-387.3\" font-family=\"Helvetica,sans-Serif\" font-size=\"14.00\">samples = 12</text>\n<text text-anchor=\"middle\" x=\"500\" y=\"-372.3\" font-family=\"Helvetica,sans-Serif\" font-size=\"14.00\">value = [1, 11]</text>\n<text text-anchor=\"middle\" x=\"500\" y=\"-357.3\" font-family=\"Helvetica,sans-Serif\" font-size=\"14.00\">class = yes</text>\n</g>\n<!-- 9&#45;&gt;17 -->\n<g id=\"edge17\" class=\"edge\">\n<title>9&#45;&gt;17</title>\n<path fill=\"none\" stroke=\"black\" d=\"M451.67,-460.91C458.72,-449.76 466.38,-437.66 473.47,-426.44\"/>\n<polygon fill=\"black\" stroke=\"black\" points=\"476.64,-427.99 479.02,-417.67 470.72,-424.25 476.64,-427.99\"/>\n</g>\n<!-- 11 -->\n<g id=\"node12\" class=\"node\">\n<title>11</title>\n<polygon fill=\"#b7dbf6\" stroke=\"black\" points=\"325,-298.5 215,-298.5 215,-230.5 325,-230.5 325,-298.5\"/>\n<text text-anchor=\"middle\" x=\"270\" y=\"-283.3\" font-family=\"Helvetica,sans-Serif\" font-size=\"14.00\">gini = 0.475</text>\n<text text-anchor=\"middle\" x=\"270\" y=\"-268.3\" font-family=\"Helvetica,sans-Serif\" font-size=\"14.00\">samples = 72</text>\n<text text-anchor=\"middle\" x=\"270\" y=\"-253.3\" font-family=\"Helvetica,sans-Serif\" font-size=\"14.00\">value = [28, 44]</text>\n<text text-anchor=\"middle\" x=\"270\" y=\"-238.3\" font-family=\"Helvetica,sans-Serif\" font-size=\"14.00\">class = yes</text>\n</g>\n<!-- 10&#45;&gt;11 -->\n<g id=\"edge11\" class=\"edge\">\n<title>10&#45;&gt;11</title>\n<path fill=\"none\" stroke=\"black\" d=\"M323.55,-341.91C315.66,-330.65 307.09,-318.42 299.16,-307.11\"/>\n<polygon fill=\"black\" stroke=\"black\" points=\"301.85,-304.85 293.25,-298.67 296.12,-308.86 301.85,-304.85\"/>\n</g>\n<!-- 12 -->\n<g id=\"node13\" class=\"node\">\n<title>12</title>\n<polygon fill=\"#f5d1b6\" stroke=\"black\" points=\"527,-306 343,-306 343,-223 527,-223 527,-306\"/>\n<text text-anchor=\"middle\" x=\"435\" y=\"-290.8\" font-family=\"Helvetica,sans-Serif\" font-size=\"14.00\">Purpose[T.car (new)] &lt;= 0.5</text>\n<text text-anchor=\"middle\" x=\"435\" y=\"-275.8\" font-family=\"Helvetica,sans-Serif\" font-size=\"14.00\">gini = 0.475</text>\n<text text-anchor=\"middle\" x=\"435\" y=\"-260.8\" font-family=\"Helvetica,sans-Serif\" font-size=\"14.00\">samples = 209</text>\n<text text-anchor=\"middle\" x=\"435\" y=\"-245.8\" font-family=\"Helvetica,sans-Serif\" font-size=\"14.00\">value = [128, 81]</text>\n<text text-anchor=\"middle\" x=\"435\" y=\"-230.8\" font-family=\"Helvetica,sans-Serif\" font-size=\"14.00\">class = no</text>\n</g>\n<!-- 10&#45;&gt;12 -->\n<g id=\"edge12\" class=\"edge\">\n<title>10&#45;&gt;12</title>\n<path fill=\"none\" stroke=\"black\" d=\"M380.8,-341.91C387.11,-333.01 393.85,-323.51 400.36,-314.33\"/>\n<polygon fill=\"black\" stroke=\"black\" points=\"403.32,-316.2 406.25,-306.02 397.61,-312.15 403.32,-316.2\"/>\n</g>\n<!-- 13 -->\n<g id=\"node14\" class=\"node\">\n<title>13</title>\n<polygon fill=\"#f2bf9a\" stroke=\"black\" points=\"454,-187 232,-187 232,-104 454,-104 454,-187\"/>\n<text text-anchor=\"middle\" x=\"343\" y=\"-171.8\" font-family=\"Helvetica,sans-Serif\" font-size=\"14.00\">Other_debtors[T.guarantor] &lt;= 0.5</text>\n<text text-anchor=\"middle\" x=\"343\" y=\"-156.8\" font-family=\"Helvetica,sans-Serif\" font-size=\"14.00\">gini = 0.442</text>\n<text text-anchor=\"middle\" x=\"343\" y=\"-141.8\" font-family=\"Helvetica,sans-Serif\" font-size=\"14.00\">samples = 155</text>\n<text text-anchor=\"middle\" x=\"343\" y=\"-126.8\" font-family=\"Helvetica,sans-Serif\" font-size=\"14.00\">value = [104, 51]</text>\n<text text-anchor=\"middle\" x=\"343\" y=\"-111.8\" font-family=\"Helvetica,sans-Serif\" font-size=\"14.00\">class = no</text>\n</g>\n<!-- 12&#45;&gt;13 -->\n<g id=\"edge13\" class=\"edge\">\n<title>12&#45;&gt;13</title>\n<path fill=\"none\" stroke=\"black\" d=\"M403.08,-222.91C396.02,-213.92 388.46,-204.32 381.18,-195.05\"/>\n<polygon fill=\"black\" stroke=\"black\" points=\"383.8,-192.72 374.86,-187.02 378.29,-197.05 383.8,-192.72\"/>\n</g>\n<!-- 16 -->\n<g id=\"node17\" class=\"node\">\n<title>16</title>\n<polygon fill=\"#d7ebfa\" stroke=\"black\" points=\"582,-179.5 472,-179.5 472,-111.5 582,-111.5 582,-179.5\"/>\n<text text-anchor=\"middle\" x=\"527\" y=\"-164.3\" font-family=\"Helvetica,sans-Serif\" font-size=\"14.00\">gini = 0.494</text>\n<text text-anchor=\"middle\" x=\"527\" y=\"-149.3\" font-family=\"Helvetica,sans-Serif\" font-size=\"14.00\">samples = 54</text>\n<text text-anchor=\"middle\" x=\"527\" y=\"-134.3\" font-family=\"Helvetica,sans-Serif\" font-size=\"14.00\">value = [24, 30]</text>\n<text text-anchor=\"middle\" x=\"527\" y=\"-119.3\" font-family=\"Helvetica,sans-Serif\" font-size=\"14.00\">class = yes</text>\n</g>\n<!-- 12&#45;&gt;16 -->\n<g id=\"edge16\" class=\"edge\">\n<title>12&#45;&gt;16</title>\n<path fill=\"none\" stroke=\"black\" d=\"M466.92,-222.91C475.86,-211.54 485.58,-199.18 494.55,-187.77\"/>\n<polygon fill=\"black\" stroke=\"black\" points=\"497.49,-189.69 500.92,-179.67 491.99,-185.36 497.49,-189.69\"/>\n</g>\n<!-- 14 -->\n<g id=\"node15\" class=\"node\">\n<title>14</title>\n<polygon fill=\"#f4c9aa\" stroke=\"black\" points=\"336,-68 226,-68 226,0 336,0 336,-68\"/>\n<text text-anchor=\"middle\" x=\"281\" y=\"-52.8\" font-family=\"Helvetica,sans-Serif\" font-size=\"14.00\">gini = 0.463</text>\n<text text-anchor=\"middle\" x=\"281\" y=\"-37.8\" font-family=\"Helvetica,sans-Serif\" font-size=\"14.00\">samples = 140</text>\n<text text-anchor=\"middle\" x=\"281\" y=\"-22.8\" font-family=\"Helvetica,sans-Serif\" font-size=\"14.00\">value = [89, 51]</text>\n<text text-anchor=\"middle\" x=\"281\" y=\"-7.8\" font-family=\"Helvetica,sans-Serif\" font-size=\"14.00\">class = no</text>\n</g>\n<!-- 13&#45;&gt;14 -->\n<g id=\"edge14\" class=\"edge\">\n<title>13&#45;&gt;14</title>\n<path fill=\"none\" stroke=\"black\" d=\"M319.91,-103.73C315.01,-95.06 309.82,-85.9 304.88,-77.18\"/>\n<polygon fill=\"black\" stroke=\"black\" points=\"307.83,-75.28 299.85,-68.3 301.74,-78.73 307.83,-75.28\"/>\n</g>\n<!-- 15 -->\n<g id=\"node16\" class=\"node\">\n<title>15</title>\n<polygon fill=\"#e58139\" stroke=\"black\" points=\"456,-68 354,-68 354,0 456,0 456,-68\"/>\n<text text-anchor=\"middle\" x=\"405\" y=\"-52.8\" font-family=\"Helvetica,sans-Serif\" font-size=\"14.00\">gini = 0.0</text>\n<text text-anchor=\"middle\" x=\"405\" y=\"-37.8\" font-family=\"Helvetica,sans-Serif\" font-size=\"14.00\">samples = 15</text>\n<text text-anchor=\"middle\" x=\"405\" y=\"-22.8\" font-family=\"Helvetica,sans-Serif\" font-size=\"14.00\">value = [15, 0]</text>\n<text text-anchor=\"middle\" x=\"405\" y=\"-7.8\" font-family=\"Helvetica,sans-Serif\" font-size=\"14.00\">class = no</text>\n</g>\n<!-- 13&#45;&gt;15 -->\n<g id=\"edge15\" class=\"edge\">\n<title>13&#45;&gt;15</title>\n<path fill=\"none\" stroke=\"black\" d=\"M366.09,-103.73C370.99,-95.06 376.18,-85.9 381.12,-77.18\"/>\n<polygon fill=\"black\" stroke=\"black\" points=\"384.26,-78.73 386.15,-68.3 378.17,-75.28 384.26,-78.73\"/>\n</g>\n</g>\n</svg>\n",
            "text/plain": [
              "<graphviz.sources.Source at 0x7f5aa5018ee0>"
            ]
          },
          "metadata": {},
          "execution_count": 16
        }
      ]
    },
    {
      "cell_type": "markdown",
      "source": [
        "# Random Forest\n",
        "\n",
        "Here we quickly train a simple random forest"
      ],
      "metadata": {
        "id": "d1_a71vtuztu"
      }
    },
    {
      "cell_type": "code",
      "source": [
        "from sklearn.ensemble import RandomForestClassifier\n",
        "\n",
        "# create a random forest classifier model\n",
        "rf_model = RandomForestClassifier(n_estimators=10, random_state=42)\n",
        "\n",
        "# fit the model to the data\n",
        "rf_model.fit(X_train, Y_train.values.ravel())\n",
        "\n",
        "# plot feature importances\n",
        "# Create a series containing feature importances from the model and feature names from the training data\n",
        "feature_importances = pd.Series(rf_model.feature_importances_, index=X_train.design_info.column_names).sort_values(ascending=False)\n",
        "\n",
        "# Plot a simple bar chart\n",
        "feature_importances.plot.bar();"
      ],
      "metadata": {
        "colab": {
          "base_uri": "https://localhost:8080/",
          "height": 725
        },
        "id": "K_BQln37u2An",
        "outputId": "9ea8cf4d-4a01-49e1-fa80-f514faecb5e2"
      },
      "execution_count": null,
      "outputs": [
        {
          "output_type": "display_data",
          "data": {
            "text/plain": [
              "<Figure size 640x480 with 1 Axes>"
            ],
            "image/png": "[encoded data removed]"
          },
          "metadata": {}
        }
      ]
    },
    {
      "cell_type": "markdown",
      "source": [
        "## Exercise 5\n",
        "\n",
        "What is training accuracy and the test accuracy of random forest?"
      ],
      "metadata": {
        "id": "AkOQ0uxHFUpG"
      }
    },
    {
      "cell_type": "code",
      "source": [
        "Y_test, X_test = dmatrices(formula, test_data, return_type='dataframe')\n",
        "\n",
        "def rf_acc(model, data_x, data_y):\n",
        "    pred = 1. + (model.predict(data_x) > 0.5) # change this code to a correct one\n",
        "    return metrics.accuracy_score(data_y, pred)\n",
        "\n",
        "\n",
        "print(\"Test accuracy of random forest =\", np.round(rf_acc(rf_model, X_test, Y_test), 2))\n",
        "print(\"Training accuracy of random forest =\", np.round(rf_acc(rf_model, X_train, Y_train), 2))"
      ],
      "metadata": {
        "colab": {
          "base_uri": "https://localhost:8080/"
        },
        "id": "EOISeyPvvYYl",
        "outputId": "bc75431e-17e0-4d97-f90b-2567a83865f6"
      },
      "execution_count": null,
      "outputs": [
        {
          "output_type": "stream",
          "name": "stdout",
          "text": [
            "Test accuracy of random forest = 0.14\n",
            "Training accuracy of random forest = 0.01\n"
          ]
        }
      ]
    },
    {
      "cell_type": "markdown",
      "metadata": {
        "hideCode": false,
        "hidePrompt": false,
        "id": "EQNf1qkJQC3B"
      },
      "source": [
        "## Question to think about\n",
        "\n",
        "We will discuss them in the end of the class"
      ]
    },
    {
      "cell_type": "markdown",
      "metadata": {
        "hideCode": false,
        "hidePrompt": false,
        "id": "Y2HVBV29QC3B"
      },
      "source": [
        "### Question 1 - two logistic regressions\n",
        "\n",
        "Why do you think the second logistic model appears to be more accurate on the training data but less accurate on the test data? What do we do to prevent such a situation?"
      ]
    },
    {
      "cell_type": "markdown",
      "metadata": {
        "hideCode": false,
        "hidePrompt": false,
        "id": "NB1zJT9lQC3B"
      },
      "source": [
        "### Question 2 - variable selection\n",
        "\n",
        "Our experiments show that we can try models with a different number of features and it is important to choose features wisely. What do you think of the following way to do it?\n",
        "\n",
        "We will train logistic regressions $f(X_1), f(X_1,X_2), f(X_1,X_2,X_3),\\ldots, f(X_1,X_2,\\dots,X_{20})$ . Every one of them will be trained on the train data and but we will use the test accuracy to evaluate its performance. Then we will choose the model with the highest test accuracy.\n",
        "\n",
        "Is it a correct way to choose the right number of features?"
      ]
    },
    {
      "cell_type": "markdown",
      "metadata": {
        "id": "YoZfYlueQC3C"
      },
      "source": [
        "## Question 3\n",
        "\n",
        "Train your favourite model to predict loan approval and compare its accuracy to results reported in \"Credit Scoring Models Using Ensemble Learning and Classification Approaches: A Comprehensive Survey\""
      ]
    },
    {
      "cell_type": "markdown",
      "source": [
        "## Model answers\n",
        "\n",
        "Fedor's answers to exercises are available here:\n",
        "\n",
        "https://colab.research.google.com/drive/1mASqipULLdSOZ42-6mwqNy85_JM2CRYu?usp=sharing"
      ],
      "metadata": {
        "id": "x2kr_NB9NZdF"
      }
    }
  ],
  "metadata": {
    "hide_code_all_hidden": false,
    "kernelspec": {
      "display_name": "Python 3",
      "language": "python",
      "name": "python3"
    },
    "language_info": {
      "codemirror_mode": {
        "name": "ipython",
        "version": 3
      },
      "file_extension": ".py",
      "mimetype": "text/x-python",
      "name": "python",
      "nbconvert_exporter": "python",
      "pygments_lexer": "ipython3",
      "version": "3.8.5"
    },
    "colab": {
      "provenance": [],
      "include_colab_link": true
    }
  },
  "nbformat": 4,
  "nbformat_minor": 0
}